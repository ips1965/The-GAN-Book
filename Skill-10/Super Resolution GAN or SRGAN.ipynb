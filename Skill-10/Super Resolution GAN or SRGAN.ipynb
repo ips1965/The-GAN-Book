{
  "nbformat": 4,
  "nbformat_minor": 0,
  "metadata": {
    "accelerator": "GPU",
    "colab": {
      "name": "Generative Adversarial Network.ipynb",
      "provenance": []
    },
    "kernelspec": {
      "display_name": "Python 3",
      "language": "python",
      "name": "python3"
    },
    "language_info": {
      "codemirror_mode": {
        "name": "ipython",
        "version": 3
      },
      "file_extension": ".py",
      "mimetype": "text/x-python",
      "name": "python",
      "nbconvert_exporter": "python",
      "pygments_lexer": "ipython3",
      "version": "3.6.9"
    }
  },
  "cells": [
    {
      "cell_type": "code",
      "metadata": {
        "ExecuteTime": {
          "end_time": "2020-12-24T12:15:30.136005Z",
          "start_time": "2020-12-24T12:15:29.141138Z"
        },
        "collapsed": true,
        "id": "14h4ejQKFVe9"
      },
      "source": [
        "import pandas as pd\n",
        "import numpy as np\n",
        "import matplotlib.pyplot as plt\n",
        "from tqdm import tqdm_notebook\n",
        "%matplotlib inline"
      ],
      "execution_count": 1,
      "outputs": []
    },
    {
      "cell_type": "code",
      "metadata": {
        "ExecuteTime": {
          "end_time": "2020-12-24T12:15:33.557046Z",
          "start_time": "2020-12-24T12:15:30.137708Z"
        },
        "colab": {
          "base_uri": "https://localhost:8080/"
        },
        "id": "UnlKaodtFVe9",
        "outputId": "4a05a16a-426f-447a-e7b2-656cb1aeb99f"
      },
      "source": [
        "import tensorflow\n",
        "print (tensorflow.__version__)"
      ],
      "execution_count": 2,
      "outputs": [
        {
          "output_type": "stream",
          "text": [
            "2.4.0\n"
          ],
          "name": "stdout"
        }
      ]
    },
    {
      "cell_type": "code",
      "metadata": {
        "ExecuteTime": {
          "end_time": "2020-12-24T12:15:34.645679Z",
          "start_time": "2020-12-24T12:15:33.558352Z"
        },
        "colab": {
          "base_uri": "https://localhost:8080/",
          "height": 614
        },
        "id": "s0l5lTN_FVe-",
        "outputId": "a8e2daa9-cfec-48ae-81b8-6934e6c705bd"
      },
      "source": [
        "from tensorflow.keras.datasets import fashion_mnist, mnist\n",
        "\n",
        "(trainX, trainY), (testX, testY) = fashion_mnist.load_data()\n",
        "\n",
        "print('Training data shapes: X=%s, y=%s' % (trainX.shape, trainY.shape))\n",
        "print('Testing data shapes: X=%s, y=%s' % (testX.shape, testY.shape))\n",
        "\n",
        "plt.figure(figsize=(7, 7))\n",
        "for j in range(9):\n",
        "    i = np.random.randint(0, 10000)\n",
        "    plt.subplot(330 + 1 + j)\n",
        "    plt.imshow(trainX[i], cmap='gray_r')\n",
        "    plt.title(trainY[i])\n",
        "plt.show()"
      ],
      "execution_count": 3,
      "outputs": [
        {
          "output_type": "stream",
          "text": [
            "Downloading data from https://storage.googleapis.com/tensorflow/tf-keras-datasets/train-labels-idx1-ubyte.gz\n",
            "32768/29515 [=================================] - 0s 0us/step\n",
            "Downloading data from https://storage.googleapis.com/tensorflow/tf-keras-datasets/train-images-idx3-ubyte.gz\n",
            "26427392/26421880 [==============================] - 0s 0us/step\n",
            "Downloading data from https://storage.googleapis.com/tensorflow/tf-keras-datasets/t10k-labels-idx1-ubyte.gz\n",
            "8192/5148 [===============================================] - 0s 0us/step\n",
            "Downloading data from https://storage.googleapis.com/tensorflow/tf-keras-datasets/t10k-images-idx3-ubyte.gz\n",
            "4423680/4422102 [==============================] - 0s 0us/step\n",
            "Training data shapes: X=(60000, 28, 28), y=(60000,)\n",
            "Testing data shapes: X=(10000, 28, 28), y=(10000,)\n"
          ],
          "name": "stdout"
        },
        {
          "output_type": "display_data",
          "data": {
            "image/png": "[encoded data removed]",
            "text/plain": [
              "<Figure size 504x504 with 9 Axes>"
            ]
          },
          "metadata": {
            "tags": [],
            "needs_background": "light"
          }
        }
      ]
    },
    {
      "cell_type": "code",
      "metadata": {
        "ExecuteTime": {
          "end_time": "2020-12-24T12:15:40.304976Z",
          "start_time": "2020-12-24T12:15:39.560449Z"
        },
        "colab": {
          "base_uri": "https://localhost:8080/"
        },
        "id": "hqqMY5NQFVe-",
        "outputId": "b6c48dfd-5b29-44d5-c060-2ce479a127f6"
      },
      "source": [
        "trainX = [image/255 for image in trainX]\n",
        "testX = [image/255 for image in testX]\n",
        "\n",
        "trainX = np.reshape(trainX, (60000, 28, 28, 1))\n",
        "testX = np.reshape(testX, (10000, 28, 28, 1))\n",
        "\n",
        "print (trainX.shape, testX.shape, trainY.shape, testY.shape)"
      ],
      "execution_count": 4,
      "outputs": [
        {
          "output_type": "stream",
          "text": [
            "(60000, 28, 28, 1) (10000, 28, 28, 1) (60000,) (10000,)\n"
          ],
          "name": "stdout"
        }
      ]
    },
    {
      "cell_type": "markdown",
      "metadata": {
        "id": "kxFTsuaGFVe-"
      },
      "source": [
        "# Generator Model (Resnet Like)"
      ]
    },
    {
      "cell_type": "code",
      "metadata": {
        "ExecuteTime": {
          "end_time": "2020-12-24T13:13:43.451968Z",
          "start_time": "2020-12-24T13:13:43.441170Z"
        },
        "collapsed": true,
        "id": "chg3B1rdPq75"
      },
      "source": [
        "def custom_resnet_block(input_layer, filters, upsample=False, resnet=True):\n",
        "    x = input_layer\n",
        "    if resnet==True:\n",
        "        x = tensorflow.keras.layers.Conv2D(filters, kernel_size=3, strides=1, padding='same')(x)\n",
        "        x = tensorflow.keras.layers.Activation('relu')(x)\n",
        "        x = tensorflow.keras.layers.BatchNormalization(momentum=0.8)(x)\n",
        "\n",
        "        x = tensorflow.keras.layers.Conv2D(filters, kernel_size=3, strides=1, padding='same')(x)\n",
        "        x = tensorflow.keras.layers.BatchNormalization(momentum=0.8)(x)\n",
        "\n",
        "        # Skip Connection\n",
        "        x = tensorflow.keras.layers.Add()([x, input_layer])\n",
        "    \n",
        "    if upsample==True:\n",
        "        x = tensorflow.keras.layers.UpSampling2D(size=2)(x)\n",
        "        x = tensorflow.keras.layers.Conv2D(filters, kernel_size=3, strides=1, padding='same')(x)\n",
        "        x = tensorflow.keras.layers.Activation('relu')(x)\n",
        "    return x"
      ],
      "execution_count": 5,
      "outputs": []
    },
    {
      "cell_type": "code",
      "metadata": {
        "ExecuteTime": {
          "end_time": "2020-12-24T13:17:16.543450Z",
          "start_time": "2020-12-24T13:17:15.875177Z"
        },
        "collapsed": true,
        "id": "45iT4lb2Pq75"
      },
      "source": [
        "low_quality_image = tensorflow.keras.layers.Input(shape=(64, 64, 3))\n",
        "\n",
        "first = tensorflow.keras.layers.Conv2D(64, kernel_size=9, strides=1, padding='same')(low_quality_image)\n",
        "first = tensorflow.keras.layers.Activation('relu')(first)\n",
        "\n",
        "x = custom_resnet_block(first, 64, False)\n",
        "x = custom_resnet_block(x, 64, False)\n",
        "x = custom_resnet_block(x, 64, False)\n",
        "x = custom_resnet_block(x, 64, False)\n",
        "\n",
        "x = custom_resnet_block(x, 64, False)\n",
        "x = custom_resnet_block(x, 64, False)\n",
        "x = custom_resnet_block(x, 64, False)\n",
        "x = custom_resnet_block(x, 64, False)\n",
        "\n",
        "x = custom_resnet_block(x, 64, False)\n",
        "x = custom_resnet_block(x, 64, False)\n",
        "x = custom_resnet_block(x, 64, False)\n",
        "x = custom_resnet_block(x, 64, False)\n",
        "\n",
        "x = custom_resnet_block(x, 64, False)\n",
        "x = custom_resnet_block(x, 64, False)\n",
        "x = custom_resnet_block(x, 64, False)\n",
        "x = custom_resnet_block(x, 64, False)\n",
        "\n",
        "y = tensorflow.keras.layers.Conv2D(64, kernel_size=3, strides=1, padding='same')(x)\n",
        "y = tensorflow.keras.layers.BatchNormalization(momentum=0.8)(y)\n",
        "y = tensorflow.keras.layers.Add()([y, first])\n",
        "\n",
        "z = custom_resnet_block(y, 256, True, False)\n",
        "z = custom_resnet_block(z, 256, True, False)\n",
        "\n",
        "z = tensorflow.keras.layers.Conv2D(3, kernel_size=9, strides=1, padding='same')(z)\n",
        "high_quality_image = tensorflow.keras.layers.Activation('tanh')(z)"
      ],
      "execution_count": 6,
      "outputs": []
    },
    {
      "cell_type": "code",
      "metadata": {
        "ExecuteTime": {
          "end_time": "2020-12-24T13:18:38.736242Z",
          "start_time": "2020-12-24T13:18:38.670823Z"
        },
        "id": "JSu29uBlPq75",
        "colab": {
          "base_uri": "https://localhost:8080/"
        },
        "outputId": "e059e897-0d16-44aa-b826-a6bc4e5c6314"
      },
      "source": [
        "generator_network = tensorflow.keras.models.Model(inputs=low_quality_image, outputs=high_quality_image)\n",
        "print (generator_network.summary())"
      ],
      "execution_count": 7,
      "outputs": [
        {
          "output_type": "stream",
          "text": [
            "Model: \"model\"\n",
            "__________________________________________________________________________________________________\n",
            "Layer (type)                    Output Shape         Param #     Connected to                     \n",
            "==================================================================================================\n",
            "input_1 (InputLayer)            [(None, 64, 64, 3)]  0                                            \n",
            "__________________________________________________________________________________________________\n",
            "conv2d (Conv2D)                 (None, 64, 64, 64)   15616       input_1[0][0]                    \n",
            "__________________________________________________________________________________________________\n",
            "activation (Activation)         (None, 64, 64, 64)   0           conv2d[0][0]                     \n",
            "__________________________________________________________________________________________________\n",
            "conv2d_1 (Conv2D)               (None, 64, 64, 64)   36928       activation[0][0]                 \n",
            "__________________________________________________________________________________________________\n",
            "activation_1 (Activation)       (None, 64, 64, 64)   0           conv2d_1[0][0]                   \n",
            "__________________________________________________________________________________________________\n",
            "batch_normalization (BatchNorma (None, 64, 64, 64)   256         activation_1[0][0]               \n",
            "__________________________________________________________________________________________________\n",
            "conv2d_2 (Conv2D)               (None, 64, 64, 64)   36928       batch_normalization[0][0]        \n",
            "__________________________________________________________________________________________________\n",
            "batch_normalization_1 (BatchNor (None, 64, 64, 64)   256         conv2d_2[0][0]                   \n",
            "__________________________________________________________________________________________________\n",
            "add (Add)                       (None, 64, 64, 64)   0           batch_normalization_1[0][0]      \n",
            "                                                                 activation[0][0]                 \n",
            "__________________________________________________________________________________________________\n",
            "conv2d_3 (Conv2D)               (None, 64, 64, 64)   36928       add[0][0]                        \n",
            "__________________________________________________________________________________________________\n",
            "activation_2 (Activation)       (None, 64, 64, 64)   0           conv2d_3[0][0]                   \n",
            "__________________________________________________________________________________________________\n",
            "batch_normalization_2 (BatchNor (None, 64, 64, 64)   256         activation_2[0][0]               \n",
            "__________________________________________________________________________________________________\n",
            "conv2d_4 (Conv2D)               (None, 64, 64, 64)   36928       batch_normalization_2[0][0]      \n",
            "__________________________________________________________________________________________________\n",
            "batch_normalization_3 (BatchNor (None, 64, 64, 64)   256         conv2d_4[0][0]                   \n",
            "__________________________________________________________________________________________________\n",
            "add_1 (Add)                     (None, 64, 64, 64)   0           batch_normalization_3[0][0]      \n",
            "                                                                 add[0][0]                        \n",
            "__________________________________________________________________________________________________\n",
            "conv2d_5 (Conv2D)               (None, 64, 64, 64)   36928       add_1[0][0]                      \n",
            "__________________________________________________________________________________________________\n",
            "activation_3 (Activation)       (None, 64, 64, 64)   0           conv2d_5[0][0]                   \n",
            "__________________________________________________________________________________________________\n",
            "batch_normalization_4 (BatchNor (None, 64, 64, 64)   256         activation_3[0][0]               \n",
            "__________________________________________________________________________________________________\n",
            "conv2d_6 (Conv2D)               (None, 64, 64, 64)   36928       batch_normalization_4[0][0]      \n",
            "__________________________________________________________________________________________________\n",
            "batch_normalization_5 (BatchNor (None, 64, 64, 64)   256         conv2d_6[0][0]                   \n",
            "__________________________________________________________________________________________________\n",
            "add_2 (Add)                     (None, 64, 64, 64)   0           batch_normalization_5[0][0]      \n",
            "                                                                 add_1[0][0]                      \n",
            "__________________________________________________________________________________________________\n",
            "conv2d_7 (Conv2D)               (None, 64, 64, 64)   36928       add_2[0][0]                      \n",
            "__________________________________________________________________________________________________\n",
            "activation_4 (Activation)       (None, 64, 64, 64)   0           conv2d_7[0][0]                   \n",
            "__________________________________________________________________________________________________\n",
            "batch_normalization_6 (BatchNor (None, 64, 64, 64)   256         activation_4[0][0]               \n",
            "__________________________________________________________________________________________________\n",
            "conv2d_8 (Conv2D)               (None, 64, 64, 64)   36928       batch_normalization_6[0][0]      \n",
            "__________________________________________________________________________________________________\n",
            "batch_normalization_7 (BatchNor (None, 64, 64, 64)   256         conv2d_8[0][0]                   \n",
            "__________________________________________________________________________________________________\n",
            "add_3 (Add)                     (None, 64, 64, 64)   0           batch_normalization_7[0][0]      \n",
            "                                                                 add_2[0][0]                      \n",
            "__________________________________________________________________________________________________\n",
            "conv2d_9 (Conv2D)               (None, 64, 64, 64)   36928       add_3[0][0]                      \n",
            "__________________________________________________________________________________________________\n",
            "activation_5 (Activation)       (None, 64, 64, 64)   0           conv2d_9[0][0]                   \n",
            "__________________________________________________________________________________________________\n",
            "batch_normalization_8 (BatchNor (None, 64, 64, 64)   256         activation_5[0][0]               \n",
            "__________________________________________________________________________________________________\n",
            "conv2d_10 (Conv2D)              (None, 64, 64, 64)   36928       batch_normalization_8[0][0]      \n",
            "__________________________________________________________________________________________________\n",
            "batch_normalization_9 (BatchNor (None, 64, 64, 64)   256         conv2d_10[0][0]                  \n",
            "__________________________________________________________________________________________________\n",
            "add_4 (Add)                     (None, 64, 64, 64)   0           batch_normalization_9[0][0]      \n",
            "                                                                 add_3[0][0]                      \n",
            "__________________________________________________________________________________________________\n",
            "conv2d_11 (Conv2D)              (None, 64, 64, 64)   36928       add_4[0][0]                      \n",
            "__________________________________________________________________________________________________\n",
            "activation_6 (Activation)       (None, 64, 64, 64)   0           conv2d_11[0][0]                  \n",
            "__________________________________________________________________________________________________\n",
            "batch_normalization_10 (BatchNo (None, 64, 64, 64)   256         activation_6[0][0]               \n",
            "__________________________________________________________________________________________________\n",
            "conv2d_12 (Conv2D)              (None, 64, 64, 64)   36928       batch_normalization_10[0][0]     \n",
            "__________________________________________________________________________________________________\n",
            "batch_normalization_11 (BatchNo (None, 64, 64, 64)   256         conv2d_12[0][0]                  \n",
            "__________________________________________________________________________________________________\n",
            "add_5 (Add)                     (None, 64, 64, 64)   0           batch_normalization_11[0][0]     \n",
            "                                                                 add_4[0][0]                      \n",
            "__________________________________________________________________________________________________\n",
            "conv2d_13 (Conv2D)              (None, 64, 64, 64)   36928       add_5[0][0]                      \n",
            "__________________________________________________________________________________________________\n",
            "activation_7 (Activation)       (None, 64, 64, 64)   0           conv2d_13[0][0]                  \n",
            "__________________________________________________________________________________________________\n",
            "batch_normalization_12 (BatchNo (None, 64, 64, 64)   256         activation_7[0][0]               \n",
            "__________________________________________________________________________________________________\n",
            "conv2d_14 (Conv2D)              (None, 64, 64, 64)   36928       batch_normalization_12[0][0]     \n",
            "__________________________________________________________________________________________________\n",
            "batch_normalization_13 (BatchNo (None, 64, 64, 64)   256         conv2d_14[0][0]                  \n",
            "__________________________________________________________________________________________________\n",
            "add_6 (Add)                     (None, 64, 64, 64)   0           batch_normalization_13[0][0]     \n",
            "                                                                 add_5[0][0]                      \n",
            "__________________________________________________________________________________________________\n",
            "conv2d_15 (Conv2D)              (None, 64, 64, 64)   36928       add_6[0][0]                      \n",
            "__________________________________________________________________________________________________\n",
            "activation_8 (Activation)       (None, 64, 64, 64)   0           conv2d_15[0][0]                  \n",
            "__________________________________________________________________________________________________\n",
            "batch_normalization_14 (BatchNo (None, 64, 64, 64)   256         activation_8[0][0]               \n",
            "__________________________________________________________________________________________________\n",
            "conv2d_16 (Conv2D)              (None, 64, 64, 64)   36928       batch_normalization_14[0][0]     \n",
            "__________________________________________________________________________________________________\n",
            "batch_normalization_15 (BatchNo (None, 64, 64, 64)   256         conv2d_16[0][0]                  \n",
            "__________________________________________________________________________________________________\n",
            "add_7 (Add)                     (None, 64, 64, 64)   0           batch_normalization_15[0][0]     \n",
            "                                                                 add_6[0][0]                      \n",
            "__________________________________________________________________________________________________\n",
            "conv2d_17 (Conv2D)              (None, 64, 64, 64)   36928       add_7[0][0]                      \n",
            "__________________________________________________________________________________________________\n",
            "activation_9 (Activation)       (None, 64, 64, 64)   0           conv2d_17[0][0]                  \n",
            "__________________________________________________________________________________________________\n",
            "batch_normalization_16 (BatchNo (None, 64, 64, 64)   256         activation_9[0][0]               \n",
            "__________________________________________________________________________________________________\n",
            "conv2d_18 (Conv2D)              (None, 64, 64, 64)   36928       batch_normalization_16[0][0]     \n",
            "__________________________________________________________________________________________________\n",
            "batch_normalization_17 (BatchNo (None, 64, 64, 64)   256         conv2d_18[0][0]                  \n",
            "__________________________________________________________________________________________________\n",
            "add_8 (Add)                     (None, 64, 64, 64)   0           batch_normalization_17[0][0]     \n",
            "                                                                 add_7[0][0]                      \n",
            "__________________________________________________________________________________________________\n",
            "conv2d_19 (Conv2D)              (None, 64, 64, 64)   36928       add_8[0][0]                      \n",
            "__________________________________________________________________________________________________\n",
            "activation_10 (Activation)      (None, 64, 64, 64)   0           conv2d_19[0][0]                  \n",
            "__________________________________________________________________________________________________\n",
            "batch_normalization_18 (BatchNo (None, 64, 64, 64)   256         activation_10[0][0]              \n",
            "__________________________________________________________________________________________________\n",
            "conv2d_20 (Conv2D)              (None, 64, 64, 64)   36928       batch_normalization_18[0][0]     \n",
            "__________________________________________________________________________________________________\n",
            "batch_normalization_19 (BatchNo (None, 64, 64, 64)   256         conv2d_20[0][0]                  \n",
            "__________________________________________________________________________________________________\n",
            "add_9 (Add)                     (None, 64, 64, 64)   0           batch_normalization_19[0][0]     \n",
            "                                                                 add_8[0][0]                      \n",
            "__________________________________________________________________________________________________\n",
            "conv2d_21 (Conv2D)              (None, 64, 64, 64)   36928       add_9[0][0]                      \n",
            "__________________________________________________________________________________________________\n",
            "activation_11 (Activation)      (None, 64, 64, 64)   0           conv2d_21[0][0]                  \n",
            "__________________________________________________________________________________________________\n",
            "batch_normalization_20 (BatchNo (None, 64, 64, 64)   256         activation_11[0][0]              \n",
            "__________________________________________________________________________________________________\n",
            "conv2d_22 (Conv2D)              (None, 64, 64, 64)   36928       batch_normalization_20[0][0]     \n",
            "__________________________________________________________________________________________________\n",
            "batch_normalization_21 (BatchNo (None, 64, 64, 64)   256         conv2d_22[0][0]                  \n",
            "__________________________________________________________________________________________________\n",
            "add_10 (Add)                    (None, 64, 64, 64)   0           batch_normalization_21[0][0]     \n",
            "                                                                 add_9[0][0]                      \n",
            "__________________________________________________________________________________________________\n",
            "conv2d_23 (Conv2D)              (None, 64, 64, 64)   36928       add_10[0][0]                     \n",
            "__________________________________________________________________________________________________\n",
            "activation_12 (Activation)      (None, 64, 64, 64)   0           conv2d_23[0][0]                  \n",
            "__________________________________________________________________________________________________\n",
            "batch_normalization_22 (BatchNo (None, 64, 64, 64)   256         activation_12[0][0]              \n",
            "__________________________________________________________________________________________________\n",
            "conv2d_24 (Conv2D)              (None, 64, 64, 64)   36928       batch_normalization_22[0][0]     \n",
            "__________________________________________________________________________________________________\n",
            "batch_normalization_23 (BatchNo (None, 64, 64, 64)   256         conv2d_24[0][0]                  \n",
            "__________________________________________________________________________________________________\n",
            "add_11 (Add)                    (None, 64, 64, 64)   0           batch_normalization_23[0][0]     \n",
            "                                                                 add_10[0][0]                     \n",
            "__________________________________________________________________________________________________\n",
            "conv2d_25 (Conv2D)              (None, 64, 64, 64)   36928       add_11[0][0]                     \n",
            "__________________________________________________________________________________________________\n",
            "activation_13 (Activation)      (None, 64, 64, 64)   0           conv2d_25[0][0]                  \n",
            "__________________________________________________________________________________________________\n",
            "batch_normalization_24 (BatchNo (None, 64, 64, 64)   256         activation_13[0][0]              \n",
            "__________________________________________________________________________________________________\n",
            "conv2d_26 (Conv2D)              (None, 64, 64, 64)   36928       batch_normalization_24[0][0]     \n",
            "__________________________________________________________________________________________________\n",
            "batch_normalization_25 (BatchNo (None, 64, 64, 64)   256         conv2d_26[0][0]                  \n",
            "__________________________________________________________________________________________________\n",
            "add_12 (Add)                    (None, 64, 64, 64)   0           batch_normalization_25[0][0]     \n",
            "                                                                 add_11[0][0]                     \n",
            "__________________________________________________________________________________________________\n",
            "conv2d_27 (Conv2D)              (None, 64, 64, 64)   36928       add_12[0][0]                     \n",
            "__________________________________________________________________________________________________\n",
            "activation_14 (Activation)      (None, 64, 64, 64)   0           conv2d_27[0][0]                  \n",
            "__________________________________________________________________________________________________\n",
            "batch_normalization_26 (BatchNo (None, 64, 64, 64)   256         activation_14[0][0]              \n",
            "__________________________________________________________________________________________________\n",
            "conv2d_28 (Conv2D)              (None, 64, 64, 64)   36928       batch_normalization_26[0][0]     \n",
            "__________________________________________________________________________________________________\n",
            "batch_normalization_27 (BatchNo (None, 64, 64, 64)   256         conv2d_28[0][0]                  \n",
            "__________________________________________________________________________________________________\n",
            "add_13 (Add)                    (None, 64, 64, 64)   0           batch_normalization_27[0][0]     \n",
            "                                                                 add_12[0][0]                     \n",
            "__________________________________________________________________________________________________\n",
            "conv2d_29 (Conv2D)              (None, 64, 64, 64)   36928       add_13[0][0]                     \n",
            "__________________________________________________________________________________________________\n",
            "activation_15 (Activation)      (None, 64, 64, 64)   0           conv2d_29[0][0]                  \n",
            "__________________________________________________________________________________________________\n",
            "batch_normalization_28 (BatchNo (None, 64, 64, 64)   256         activation_15[0][0]              \n",
            "__________________________________________________________________________________________________\n",
            "conv2d_30 (Conv2D)              (None, 64, 64, 64)   36928       batch_normalization_28[0][0]     \n",
            "__________________________________________________________________________________________________\n",
            "batch_normalization_29 (BatchNo (None, 64, 64, 64)   256         conv2d_30[0][0]                  \n",
            "__________________________________________________________________________________________________\n",
            "add_14 (Add)                    (None, 64, 64, 64)   0           batch_normalization_29[0][0]     \n",
            "                                                                 add_13[0][0]                     \n",
            "__________________________________________________________________________________________________\n",
            "conv2d_31 (Conv2D)              (None, 64, 64, 64)   36928       add_14[0][0]                     \n",
            "__________________________________________________________________________________________________\n",
            "activation_16 (Activation)      (None, 64, 64, 64)   0           conv2d_31[0][0]                  \n",
            "__________________________________________________________________________________________________\n",
            "batch_normalization_30 (BatchNo (None, 64, 64, 64)   256         activation_16[0][0]              \n",
            "__________________________________________________________________________________________________\n",
            "conv2d_32 (Conv2D)              (None, 64, 64, 64)   36928       batch_normalization_30[0][0]     \n",
            "__________________________________________________________________________________________________\n",
            "batch_normalization_31 (BatchNo (None, 64, 64, 64)   256         conv2d_32[0][0]                  \n",
            "__________________________________________________________________________________________________\n",
            "add_15 (Add)                    (None, 64, 64, 64)   0           batch_normalization_31[0][0]     \n",
            "                                                                 add_14[0][0]                     \n",
            "__________________________________________________________________________________________________\n",
            "conv2d_33 (Conv2D)              (None, 64, 64, 64)   36928       add_15[0][0]                     \n",
            "__________________________________________________________________________________________________\n",
            "batch_normalization_32 (BatchNo (None, 64, 64, 64)   256         conv2d_33[0][0]                  \n",
            "__________________________________________________________________________________________________\n",
            "add_16 (Add)                    (None, 64, 64, 64)   0           batch_normalization_32[0][0]     \n",
            "                                                                 activation[0][0]                 \n",
            "__________________________________________________________________________________________________\n",
            "up_sampling2d (UpSampling2D)    (None, 128, 128, 64) 0           add_16[0][0]                     \n",
            "__________________________________________________________________________________________________\n",
            "conv2d_34 (Conv2D)              (None, 128, 128, 256 147712      up_sampling2d[0][0]              \n",
            "__________________________________________________________________________________________________\n",
            "activation_17 (Activation)      (None, 128, 128, 256 0           conv2d_34[0][0]                  \n",
            "__________________________________________________________________________________________________\n",
            "up_sampling2d_1 (UpSampling2D)  (None, 256, 256, 256 0           activation_17[0][0]              \n",
            "__________________________________________________________________________________________________\n",
            "conv2d_35 (Conv2D)              (None, 256, 256, 256 590080      up_sampling2d_1[0][0]            \n",
            "__________________________________________________________________________________________________\n",
            "activation_18 (Activation)      (None, 256, 256, 256 0           conv2d_35[0][0]                  \n",
            "__________________________________________________________________________________________________\n",
            "conv2d_36 (Conv2D)              (None, 256, 256, 3)  62211       activation_18[0][0]              \n",
            "__________________________________________________________________________________________________\n",
            "activation_19 (Activation)      (None, 256, 256, 3)  0           conv2d_36[0][0]                  \n",
            "==================================================================================================\n",
            "Total params: 2,042,691\n",
            "Trainable params: 2,038,467\n",
            "Non-trainable params: 4,224\n",
            "__________________________________________________________________________________________________\n",
            "None\n"
          ],
          "name": "stdout"
        }
      ]
    },
    {
      "cell_type": "markdown",
      "metadata": {
        "id": "gIqorLAuPq76"
      },
      "source": [
        "# Discriminator Network"
      ]
    },
    {
      "cell_type": "code",
      "metadata": {
        "ExecuteTime": {
          "end_time": "2020-12-24T13:23:42.453037Z",
          "start_time": "2020-12-24T13:23:42.448750Z"
        },
        "collapsed": true,
        "id": "0nSu8-6NPq76"
      },
      "source": [
        "def custom_d_block(input_layer, filters, strides, bn=True):\n",
        "    x = tensorflow.keras.layers.Conv2D(filters, kernel_size=3, strides=strides, padding='same')(input_layer)\n",
        "    x = tensorflow.keras.layers.LeakyReLU(alpha=0.2)(x)\n",
        "    if bn==True:\n",
        "        x = tensorflow.keras.layers.BatchNormalization(momentum=0.8)(x)\n",
        "    return x"
      ],
      "execution_count": 8,
      "outputs": []
    },
    {
      "cell_type": "code",
      "metadata": {
        "ExecuteTime": {
          "end_time": "2020-12-24T13:36:32.692796Z",
          "start_time": "2020-12-24T13:36:32.483689Z"
        },
        "collapsed": true,
        "id": "VEq4-rqJPq76"
      },
      "source": [
        "high_quality_input = tensorflow.keras.layers.Input(shape=(256, 256, 3))\n",
        "\n",
        "x = custom_d_block(high_quality_input, 64, 1, False)\n",
        "x = custom_d_block(x, 64, 2, True)\n",
        "x = custom_d_block(x, 128, 1, True)\n",
        "x = custom_d_block(x, 128, 2, True)\n",
        "x = custom_d_block(x, 256, 1, True)\n",
        "x = custom_d_block(x, 256, 2, True)\n",
        "x = custom_d_block(x, 512, 1, True)\n",
        "x = custom_d_block(x, 512, 2, True)\n",
        "\n",
        "x = tensorflow.keras.layers.Dense(1024)(x)\n",
        "x = tensorflow.keras.layers.LeakyReLU(alpha=0.2)(x)\n",
        "\n",
        "real_vs_fake_patch = tensorflow.keras.layers.Dense(1, activation='sigmoid')(x)"
      ],
      "execution_count": 9,
      "outputs": []
    },
    {
      "cell_type": "code",
      "metadata": {
        "ExecuteTime": {
          "end_time": "2020-12-24T13:36:32.721869Z",
          "start_time": "2020-12-24T13:36:32.703950Z"
        },
        "id": "9vR4Y-HnPq77",
        "colab": {
          "base_uri": "https://localhost:8080/"
        },
        "outputId": "3ce0756e-3dd3-4752-eab9-aeaaab76b10e"
      },
      "source": [
        "discriminator_network = tensorflow.keras.models.Model(inputs=high_quality_input, outputs=real_vs_fake_patch)\n",
        "print (discriminator_network.summary())"
      ],
      "execution_count": 10,
      "outputs": [
        {
          "output_type": "stream",
          "text": [
            "Model: \"model_1\"\n",
            "_________________________________________________________________\n",
            "Layer (type)                 Output Shape              Param #   \n",
            "=================================================================\n",
            "input_2 (InputLayer)         [(None, 256, 256, 3)]     0         \n",
            "_________________________________________________________________\n",
            "conv2d_37 (Conv2D)           (None, 256, 256, 64)      1792      \n",
            "_________________________________________________________________\n",
            "leaky_re_lu (LeakyReLU)      (None, 256, 256, 64)      0         \n",
            "_________________________________________________________________\n",
            "conv2d_38 (Conv2D)           (None, 128, 128, 64)      36928     \n",
            "_________________________________________________________________\n",
            "leaky_re_lu_1 (LeakyReLU)    (None, 128, 128, 64)      0         \n",
            "_________________________________________________________________\n",
            "batch_normalization_33 (Batc (None, 128, 128, 64)      256       \n",
            "_________________________________________________________________\n",
            "conv2d_39 (Conv2D)           (None, 128, 128, 128)     73856     \n",
            "_________________________________________________________________\n",
            "leaky_re_lu_2 (LeakyReLU)    (None, 128, 128, 128)     0         \n",
            "_________________________________________________________________\n",
            "batch_normalization_34 (Batc (None, 128, 128, 128)     512       \n",
            "_________________________________________________________________\n",
            "conv2d_40 (Conv2D)           (None, 64, 64, 128)       147584    \n",
            "_________________________________________________________________\n",
            "leaky_re_lu_3 (LeakyReLU)    (None, 64, 64, 128)       0         \n",
            "_________________________________________________________________\n",
            "batch_normalization_35 (Batc (None, 64, 64, 128)       512       \n",
            "_________________________________________________________________\n",
            "conv2d_41 (Conv2D)           (None, 64, 64, 256)       295168    \n",
            "_________________________________________________________________\n",
            "leaky_re_lu_4 (LeakyReLU)    (None, 64, 64, 256)       0         \n",
            "_________________________________________________________________\n",
            "batch_normalization_36 (Batc (None, 64, 64, 256)       1024      \n",
            "_________________________________________________________________\n",
            "conv2d_42 (Conv2D)           (None, 32, 32, 256)       590080    \n",
            "_________________________________________________________________\n",
            "leaky_re_lu_5 (LeakyReLU)    (None, 32, 32, 256)       0         \n",
            "_________________________________________________________________\n",
            "batch_normalization_37 (Batc (None, 32, 32, 256)       1024      \n",
            "_________________________________________________________________\n",
            "conv2d_43 (Conv2D)           (None, 32, 32, 512)       1180160   \n",
            "_________________________________________________________________\n",
            "leaky_re_lu_6 (LeakyReLU)    (None, 32, 32, 512)       0         \n",
            "_________________________________________________________________\n",
            "batch_normalization_38 (Batc (None, 32, 32, 512)       2048      \n",
            "_________________________________________________________________\n",
            "conv2d_44 (Conv2D)           (None, 16, 16, 512)       2359808   \n",
            "_________________________________________________________________\n",
            "leaky_re_lu_7 (LeakyReLU)    (None, 16, 16, 512)       0         \n",
            "_________________________________________________________________\n",
            "batch_normalization_39 (Batc (None, 16, 16, 512)       2048      \n",
            "_________________________________________________________________\n",
            "dense (Dense)                (None, 16, 16, 1024)      525312    \n",
            "_________________________________________________________________\n",
            "leaky_re_lu_8 (LeakyReLU)    (None, 16, 16, 1024)      0         \n",
            "_________________________________________________________________\n",
            "dense_1 (Dense)              (None, 16, 16, 1)         1025      \n",
            "=================================================================\n",
            "Total params: 5,219,137\n",
            "Trainable params: 5,215,425\n",
            "Non-trainable params: 3,712\n",
            "_________________________________________________________________\n",
            "None\n"
          ],
          "name": "stdout"
        }
      ]
    },
    {
      "cell_type": "code",
      "metadata": {
        "ExecuteTime": {
          "end_time": "2020-12-24T14:02:42.898597Z",
          "start_time": "2020-12-24T14:02:42.883342Z"
        },
        "collapsed": true,
        "id": "tMc1CyNNFVe-"
      },
      "source": [
        "adam_optimizer = tensorflow.keras.optimizers.Adam(learning_rate=0.0002, beta_1=0.5)\n",
        "\n",
        "discriminator_network.compile(loss='mse', optimizer=adam_optimizer, metrics=['accuracy'])"
      ],
      "execution_count": 11,
      "outputs": []
    },
    {
      "cell_type": "markdown",
      "metadata": {
        "id": "vjk8BzFlPq77"
      },
      "source": [
        "# Pre Trained VGG feaures"
      ]
    },
    {
      "cell_type": "code",
      "metadata": {
        "ExecuteTime": {
          "end_time": "2020-12-24T14:23:07.467306Z",
          "start_time": "2020-12-24T14:22:57.559008Z"
        },
        "collapsed": true,
        "id": "3xDtTpkzPq77",
        "colab": {
          "base_uri": "https://localhost:8080/"
        },
        "outputId": "7710d968-7b0b-431e-e38f-2850a1899d99"
      },
      "source": [
        "high_quality_input = tensorflow.keras.layers.Input(shape=(256, 256, 3))\n",
        "\n",
        "pre_trained_vgg = tensorflow.keras.applications.VGG19(weights='imagenet', input_tensor=high_quality_input, include_top=False)\n",
        "#pre_trained_vgg.outputs = [pre_trained_vgg.layers[9].output]\n",
        "\n",
        "pre_trained_image_feautures = pre_trained_vgg(high_quality_input)\n",
        "\n",
        "custom_vgg = tensorflow.keras.models.Model(inputs=high_quality_input, outputs=pre_trained_image_feautures)\n",
        "print (custom_vgg.summary())"
      ],
      "execution_count": 37,
      "outputs": [
        {
          "output_type": "stream",
          "text": [
            "Model: \"model_4\"\n",
            "_________________________________________________________________\n",
            "Layer (type)                 Output Shape              Param #   \n",
            "=================================================================\n",
            "input_31 (InputLayer)        [(None, 256, 256, 3)]     0         \n",
            "_________________________________________________________________\n",
            "vgg19 (Functional)           (None, 8, 8, 512)         20024384  \n",
            "=================================================================\n",
            "Total params: 20,024,384\n",
            "Trainable params: 20,024,384\n",
            "Non-trainable params: 0\n",
            "_________________________________________________________________\n",
            "None\n"
          ],
          "name": "stdout"
        }
      ]
    },
    {
      "cell_type": "markdown",
      "metadata": {
        "id": "99IlAN3AFVe-"
      },
      "source": [
        "# SR-GAN"
      ]
    },
    {
      "cell_type": "code",
      "metadata": {
        "ExecuteTime": {
          "end_time": "2020-12-24T14:29:35.292557Z",
          "start_time": "2020-12-24T14:29:34.870019Z"
        },
        "id": "nhAQDHWwPq78",
        "colab": {
          "base_uri": "https://localhost:8080/"
        },
        "outputId": "d0fbccc5-4f47-4c0e-df4f-8ca15ce27b69"
      },
      "source": [
        "low_quality_image = tensorflow.keras.layers.Input(shape=(64, 64, 3))\n",
        "high_quality_input = tensorflow.keras.layers.Input(shape=(256, 256, 3))\n",
        "\n",
        "fake_high_quality_image = generator_network(low_quality_image)\n",
        "fake_high_quality_features = custom_vgg(fake_high_quality_image)\n",
        "\n",
        "discriminator_network.trainable=False\n",
        "\n",
        "d_output = discriminator_network(fake_high_quality_image)\n",
        "\n",
        "sr_gan = tensorflow.keras.models.Model(inputs=[low_quality_image, high_quality_input],\\\n",
        "                                                   outputs=[d_output, fake_high_quality_features])\n",
        "\n",
        "print (sr_gan.summary())"
      ],
      "execution_count": 38,
      "outputs": [
        {
          "output_type": "stream",
          "text": [
            "Model: \"model_5\"\n",
            "__________________________________________________________________________________________________\n",
            "Layer (type)                    Output Shape         Param #     Connected to                     \n",
            "==================================================================================================\n",
            "input_32 (InputLayer)           [(None, 64, 64, 3)]  0                                            \n",
            "__________________________________________________________________________________________________\n",
            "model (Functional)              (None, 256, 256, 3)  2042691     input_32[0][0]                   \n",
            "__________________________________________________________________________________________________\n",
            "input_33 (InputLayer)           [(None, 256, 256, 3) 0                                            \n",
            "__________________________________________________________________________________________________\n",
            "model_1 (Functional)            (None, 16, 16, 1)    5219137     model[0][0]                      \n",
            "__________________________________________________________________________________________________\n",
            "model_4 (Functional)            (None, 8, 8, 512)    20024384    model[0][0]                      \n",
            "==================================================================================================\n",
            "Total params: 27,286,212\n",
            "Trainable params: 22,062,851\n",
            "Non-trainable params: 5,223,361\n",
            "__________________________________________________________________________________________________\n",
            "None\n"
          ],
          "name": "stdout"
        }
      ]
    },
    {
      "cell_type": "markdown",
      "metadata": {
        "id": "MFyjhkyCFVe_"
      },
      "source": [
        "# Compiling Models"
      ]
    },
    {
      "cell_type": "code",
      "metadata": {
        "ExecuteTime": {
          "end_time": "2020-12-24T14:37:37.561370Z",
          "start_time": "2020-12-24T14:37:37.551022Z"
        },
        "id": "rPG_olwXFVe_"
      },
      "source": [
        "sr_gan.compile(loss=['binary_crossentropy', 'mse'], loss_weights=[0.001, 1], optimizer=adam_optimizer)"
      ],
      "execution_count": 39,
      "outputs": []
    },
    {
      "cell_type": "markdown",
      "metadata": {
        "id": "5RpVWMO8FVe_"
      },
      "source": [
        "# Define Data Generators"
      ]
    },
    {
      "cell_type": "code",
      "metadata": {
        "ExecuteTime": {
          "end_time": "2020-12-07T14:13:30.607917Z",
          "start_time": "2020-12-07T14:13:30.590101Z"
        },
        "collapsed": true,
        "id": "pTSivi-dFVe_"
      },
      "source": [
        "indices = [i for i in range(0, len(trainX))]\n",
        "\n",
        "def get_training_samples(batch_size):\n",
        "    return low_quality_images, high_quality_images\n",
        "\n",
        "def show_generator_results(generator_network):\n",
        "    low_quality_images, high_quality_images = get_training_samples(3)\n",
        "    fake_high_quality_images = generator_network(low_quality_images)\n",
        "\n",
        "    print (\"Low quality input images\")\n",
        "    plt.figure(figsize=(9, 9))\n",
        "    for i in range(3):\n",
        "        plt.subplot(330 + 1 + i)\n",
        "        plt.imshow(low_quality_images[i])\n",
        "    plt.show()\n",
        "\n",
        "    print (\"Generated high quality images\")\n",
        "    plt.figure(figsize=(9, 9))\n",
        "    for i in range(3):\n",
        "        plt.subplot(330 + 1 + i)\n",
        "        plt.imshow(fake_high_quality_images[i])\n",
        "    plt.show()\n",
        "\n",
        "    print (\"Real high quality images\")\n",
        "    plt.figure(figsize=(9, 9))\n",
        "    for i in range(3):\n",
        "        plt.subplot(330 + 1 + i)\n",
        "        plt.imshow(high_quality_images[i])\n",
        "    plt.show()"
      ],
      "execution_count": 41,
      "outputs": []
    },
    {
      "cell_type": "markdown",
      "metadata": {
        "id": "fEOpY_BZFVe_"
      },
      "source": [
        "# Training GAN"
      ]
    },
    {
      "cell_type": "code",
      "metadata": {
        "ExecuteTime": {
          "end_time": "2020-12-07T14:13:32.242860Z",
          "start_time": "2020-12-07T14:13:31.908337Z"
        },
        "colab": {
          "base_uri": "https://localhost:8080/",
          "height": 375
        },
        "id": "E_nihCaQFVe_",
        "outputId": "fbbcbb48-50dd-4cd4-e6ac-021e6c8b3507"
      },
      "source": [
        "epochs = 500\n",
        "batch_size = 1\n",
        "steps = 500\n",
        "\n",
        "for i in range(0, epochs):\n",
        "    if (i%5 == 0):\n",
        "        show_generator_results(generator_network)\n",
        "    for j in range(steps):\n",
        "        low_quality_images, high_quality_images = get_training_samples(batch_size)\n",
        "\n",
        "        fake_high_quality_images = generator_network.predict_on_batch(low_quality_images)\n",
        "\n",
        "        fake_patch = np.zeros((batch_size, 16, 16, 1))\n",
        "        real_patch = np.ones((batch_size, 16, 16, 1))\n",
        "        \n",
        "        # Updating Discriminator weights\n",
        "        discriminator_network.trainable=True\n",
        "        loss_d_real = discriminator_network.train_on_batch(high_quality_images, real_patch)\n",
        "        loss_d_fake = discriminator_network.train_on_batch(fake_high_quality_images, fake_patch)\n",
        "        loss_d = np.add(loss_d_real, loss_d_fake)/2.0\n",
        "        \n",
        "        # Make the Discriminator belive that these are real samples and calculate loss to train the generator\n",
        "        low_quality_images, high_quality_images = get_training_samples(batch_size)\n",
        "        discriminator_network.trainable=False\n",
        "\n",
        "        real_vgg_features = custom_vgg.predict_on_batch(high_quality_images)\n",
        "\n",
        "        # Updating Generator weights\n",
        "        loss_g = sr_gan.train_on_batch([low_quality_images, high_quality_images], [real_patch, real_vgg_features])\n",
        "        \n",
        "        if j%50 == 0:\n",
        "            print (\"Epoch:%.0f, Step:%.0f, D-Loss:%.3f, D-Acc:%.3f, G-Loss:%.3f\"%(i,j,loss_d[0],loss_d[1]*100,loss_g[0]))"
      ],
      "execution_count": 42,
      "outputs": [
        {
          "output_type": "error",
          "ename": "NameError",
          "evalue": "ignored",
          "traceback": [
            "\u001b[0;31m---------------------------------------------------------------------------\u001b[0m",
            "\u001b[0;31mNameError\u001b[0m                                 Traceback (most recent call last)",
            "\u001b[0;32m<ipython-input-42-97c7e672d2df>\u001b[0m in \u001b[0;36m<module>\u001b[0;34m()\u001b[0m\n\u001b[1;32m      5\u001b[0m \u001b[0;32mfor\u001b[0m \u001b[0mi\u001b[0m \u001b[0;32min\u001b[0m \u001b[0mrange\u001b[0m\u001b[0;34m(\u001b[0m\u001b[0;36m0\u001b[0m\u001b[0;34m,\u001b[0m \u001b[0mepochs\u001b[0m\u001b[0;34m)\u001b[0m\u001b[0;34m:\u001b[0m\u001b[0;34m\u001b[0m\u001b[0;34m\u001b[0m\u001b[0m\n\u001b[1;32m      6\u001b[0m     \u001b[0;32mif\u001b[0m \u001b[0;34m(\u001b[0m\u001b[0mi\u001b[0m\u001b[0;34m%\u001b[0m\u001b[0;36m5\u001b[0m \u001b[0;34m==\u001b[0m \u001b[0;36m0\u001b[0m\u001b[0;34m)\u001b[0m\u001b[0;34m:\u001b[0m\u001b[0;34m\u001b[0m\u001b[0;34m\u001b[0m\u001b[0m\n\u001b[0;32m----> 7\u001b[0;31m         \u001b[0mshow_generator_results\u001b[0m\u001b[0;34m(\u001b[0m\u001b[0mgenerator_network\u001b[0m\u001b[0;34m)\u001b[0m\u001b[0;34m\u001b[0m\u001b[0;34m\u001b[0m\u001b[0m\n\u001b[0m\u001b[1;32m      8\u001b[0m     \u001b[0;32mfor\u001b[0m \u001b[0mj\u001b[0m \u001b[0;32min\u001b[0m \u001b[0mrange\u001b[0m\u001b[0;34m(\u001b[0m\u001b[0msteps\u001b[0m\u001b[0;34m)\u001b[0m\u001b[0;34m:\u001b[0m\u001b[0;34m\u001b[0m\u001b[0;34m\u001b[0m\u001b[0m\n\u001b[1;32m      9\u001b[0m         \u001b[0mlow_quality_images\u001b[0m\u001b[0;34m,\u001b[0m \u001b[0mhigh_quality_images\u001b[0m \u001b[0;34m=\u001b[0m \u001b[0mget_training_samples\u001b[0m\u001b[0;34m(\u001b[0m\u001b[0mbatch_size\u001b[0m\u001b[0;34m)\u001b[0m\u001b[0;34m\u001b[0m\u001b[0;34m\u001b[0m\u001b[0m\n",
            "\u001b[0;32m<ipython-input-41-25be9d546cf6>\u001b[0m in \u001b[0;36mshow_generator_results\u001b[0;34m(generator_network)\u001b[0m\n\u001b[1;32m      5\u001b[0m \u001b[0;34m\u001b[0m\u001b[0m\n\u001b[1;32m      6\u001b[0m \u001b[0;32mdef\u001b[0m \u001b[0mshow_generator_results\u001b[0m\u001b[0;34m(\u001b[0m\u001b[0mgenerator_network\u001b[0m\u001b[0;34m)\u001b[0m\u001b[0;34m:\u001b[0m\u001b[0;34m\u001b[0m\u001b[0;34m\u001b[0m\u001b[0m\n\u001b[0;32m----> 7\u001b[0;31m     \u001b[0mlow_quality_images\u001b[0m\u001b[0;34m,\u001b[0m \u001b[0mhigh_quality_images\u001b[0m \u001b[0;34m=\u001b[0m \u001b[0mget_training_samples\u001b[0m\u001b[0;34m(\u001b[0m\u001b[0;36m3\u001b[0m\u001b[0;34m)\u001b[0m\u001b[0;34m\u001b[0m\u001b[0;34m\u001b[0m\u001b[0m\n\u001b[0m\u001b[1;32m      8\u001b[0m     \u001b[0mfake_high_quality_images\u001b[0m \u001b[0;34m=\u001b[0m \u001b[0mgenerator_network\u001b[0m\u001b[0;34m(\u001b[0m\u001b[0mlow_quality_images\u001b[0m\u001b[0;34m)\u001b[0m\u001b[0;34m\u001b[0m\u001b[0;34m\u001b[0m\u001b[0m\n\u001b[1;32m      9\u001b[0m \u001b[0;34m\u001b[0m\u001b[0m\n",
            "\u001b[0;32m<ipython-input-41-25be9d546cf6>\u001b[0m in \u001b[0;36mget_training_samples\u001b[0;34m(batch_size)\u001b[0m\n\u001b[1;32m      2\u001b[0m \u001b[0;34m\u001b[0m\u001b[0m\n\u001b[1;32m      3\u001b[0m \u001b[0;32mdef\u001b[0m \u001b[0mget_training_samples\u001b[0m\u001b[0;34m(\u001b[0m\u001b[0mbatch_size\u001b[0m\u001b[0;34m)\u001b[0m\u001b[0;34m:\u001b[0m\u001b[0;34m\u001b[0m\u001b[0;34m\u001b[0m\u001b[0m\n\u001b[0;32m----> 4\u001b[0;31m     \u001b[0;32mreturn\u001b[0m \u001b[0mlow_quality_images\u001b[0m\u001b[0;34m,\u001b[0m \u001b[0mhigh_quality_images\u001b[0m\u001b[0;34m\u001b[0m\u001b[0;34m\u001b[0m\u001b[0m\n\u001b[0m\u001b[1;32m      5\u001b[0m \u001b[0;34m\u001b[0m\u001b[0m\n\u001b[1;32m      6\u001b[0m \u001b[0;32mdef\u001b[0m \u001b[0mshow_generator_results\u001b[0m\u001b[0;34m(\u001b[0m\u001b[0mgenerator_network\u001b[0m\u001b[0;34m)\u001b[0m\u001b[0;34m:\u001b[0m\u001b[0;34m\u001b[0m\u001b[0;34m\u001b[0m\u001b[0m\n",
            "\u001b[0;31mNameError\u001b[0m: name 'low_quality_images' is not defined"
          ]
        }
      ]
    },
    {
      "cell_type": "code",
      "metadata": {
        "collapsed": true,
        "id": "Yg7jfqTMPq7-"
      },
      "source": [
        ""
      ],
      "execution_count": null,
      "outputs": []
    }
  ]
}
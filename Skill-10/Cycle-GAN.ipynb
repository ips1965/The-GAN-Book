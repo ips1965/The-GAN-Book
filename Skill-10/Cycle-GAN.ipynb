{
 "cells": [
  {
   "cell_type": "code",
   "execution_count": 1,
   "metadata": {
    "ExecuteTime": {
     "end_time": "2020-12-07T14:13:14.259403Z",
     "start_time": "2020-12-07T14:13:13.565290Z"
    },
    "collapsed": true,
    "id": "14h4ejQKFVe9"
   },
   "outputs": [],
   "source": [
    "import pandas as pd\n",
    "import numpy as np\n",
    "import matplotlib.pyplot as plt\n",
    "from tqdm import tqdm_notebook\n",
    "%matplotlib inline"
   ]
  },
  {
   "cell_type": "code",
   "execution_count": 2,
   "metadata": {
    "ExecuteTime": {
     "end_time": "2020-12-07T14:13:16.982132Z",
     "start_time": "2020-12-07T14:13:14.577444Z"
    },
    "colab": {
     "base_uri": "https://localhost:8080/"
    },
    "id": "UnlKaodtFVe9",
    "outputId": "97d54c2f-5d9e-4190-87ac-3ae0193e03fe"
   },
   "outputs": [
    {
     "name": "stdout",
     "output_type": "stream",
     "text": [
      "2.3.1\n"
     ]
    }
   ],
   "source": [
    "import tensorflow\n",
    "print (tensorflow.__version__)"
   ]
  },
  {
   "cell_type": "code",
   "execution_count": 3,
   "metadata": {
    "ExecuteTime": {
     "end_time": "2020-12-07T14:13:18.096855Z",
     "start_time": "2020-12-07T14:13:16.983267Z"
    },
    "colab": {
     "base_uri": "https://localhost:8080/",
     "height": 478
    },
    "id": "s0l5lTN_FVe-",
    "outputId": "23a5e699-e704-48b1-ae29-cf6377295bac"
   },
   "outputs": [
    {
     "name": "stdout",
     "output_type": "stream",
     "text": [
      "Training data shapes: X=(60000, 28, 28), y=(60000,)\n",
      "Testing data shapes: X=(10000, 28, 28), y=(10000,)\n"
     ]
    },
    {
     "data": {
      "image/png": "[encoded data removed]",
      "text/plain": [
       "<Figure size 504x504 with 9 Axes>"
      ]
     },
     "metadata": {},
     "output_type": "display_data"
    }
   ],
   "source": [
    "from tensorflow.keras.datasets import fashion_mnist, mnist\n",
    "\n",
    "(trainX, trainY), (testX, testY) = fashion_mnist.load_data()\n",
    "\n",
    "print('Training data shapes: X=%s, y=%s' % (trainX.shape, trainY.shape))\n",
    "print('Testing data shapes: X=%s, y=%s' % (testX.shape, testY.shape))\n",
    "\n",
    "plt.figure(figsize=(7, 7))\n",
    "for j in range(9):\n",
    "    i = np.random.randint(0, 10000)\n",
    "    plt.subplot(330 + 1 + j)\n",
    "    plt.imshow(trainX[i], cmap='gray')\n",
    "    plt.title(trainY[i])\n",
    "plt.show()"
   ]
  },
  {
   "cell_type": "code",
   "execution_count": 4,
   "metadata": {
    "ExecuteTime": {
     "end_time": "2020-12-07T14:13:18.912941Z",
     "start_time": "2020-12-07T14:13:18.097931Z"
    },
    "colab": {
     "base_uri": "https://localhost:8080/"
    },
    "id": "hqqMY5NQFVe-",
    "outputId": "28d70cc1-cf80-4dc8-9c8a-fee7a2776275"
   },
   "outputs": [
    {
     "name": "stdout",
     "output_type": "stream",
     "text": [
      "(60000, 28, 28, 1) (10000, 28, 28, 1) (60000,) (10000,)\n"
     ]
    }
   ],
   "source": [
    "trainX = [image/255 for image in trainX]\n",
    "testX = [image/255 for image in testX]\n",
    "\n",
    "trainX = np.reshape(trainX, (60000, 28, 28, 1))\n",
    "testX = np.reshape(testX, (10000, 28, 28, 1))\n",
    "\n",
    "print (trainX.shape, testX.shape, trainY.shape, testY.shape)"
   ]
  },
  {
   "cell_type": "markdown",
   "metadata": {
    "id": "kxFTsuaGFVe-"
   },
   "source": [
    "# Generator Model (U-Net Like)"
   ]
  },
  {
   "cell_type": "code",
   "execution_count": 5,
   "metadata": {
    "ExecuteTime": {
     "end_time": "2020-12-07T14:13:18.923013Z",
     "start_time": "2020-12-07T14:13:18.914198Z"
    },
    "collapsed": true
   },
   "outputs": [],
   "source": [
    "def encoder_layer(input_layer, filters, bn=True):\n",
    "    x = tensorflow.keras.layers.Conv2D(filters, kernel_size=(4,4), strides=(2,2), padding='same')(input_layer)\n",
    "    x = tensorflow.keras.layers.LeakyReLU(alpha=0.2)(x)\n",
    "    if bn:\n",
    "        x = tensorflow.keras.layers.BatchNormalization(momentum=0.8)(x)\n",
    "    return x\n",
    "\n",
    "def decoder_layer(input_layer, skip_input, filters):\n",
    "    #x = tensorflow.keras.layers.UpSampling2D(size=2)(input_layer)\n",
    "    x = tensorflow.keras.layers.Conv2DTranspose(filters, kernel_size=(4,4), strides=(2,2), padding='same')(input_layer)\n",
    "    x = tensorflow.keras.layers.Activation('relu')(x)\n",
    "    x = tensorflow.keras.layers.BatchNormalization(momentum=0.8)(x)\n",
    "    x = tensorflow.keras.layers.Concatenate()([x, skip_input])\n",
    "    return x"
   ]
  },
  {
   "cell_type": "code",
   "execution_count": 6,
   "metadata": {
    "ExecuteTime": {
     "end_time": "2020-12-07T14:13:19.439926Z",
     "start_time": "2020-12-07T14:13:18.925152Z"
    }
   },
   "outputs": [
    {
     "name": "stdout",
     "output_type": "stream",
     "text": [
      "Model: \"functional_1\"\n",
      "__________________________________________________________________________________________________\n",
      "Layer (type)                    Output Shape         Param #     Connected to                     \n",
      "==================================================================================================\n",
      "input_3 (InputLayer)            [(None, 256, 256, 3) 0                                            \n",
      "__________________________________________________________________________________________________\n",
      "conv2d (Conv2D)                 (None, 128, 128, 32) 1568        input_3[0][0]                    \n",
      "__________________________________________________________________________________________________\n",
      "leaky_re_lu (LeakyReLU)         (None, 128, 128, 32) 0           conv2d[0][0]                     \n",
      "__________________________________________________________________________________________________\n",
      "conv2d_1 (Conv2D)               (None, 64, 64, 64)   32832       leaky_re_lu[0][0]                \n",
      "__________________________________________________________________________________________________\n",
      "leaky_re_lu_1 (LeakyReLU)       (None, 64, 64, 64)   0           conv2d_1[0][0]                   \n",
      "__________________________________________________________________________________________________\n",
      "batch_normalization (BatchNorma (None, 64, 64, 64)   256         leaky_re_lu_1[0][0]              \n",
      "__________________________________________________________________________________________________\n",
      "conv2d_2 (Conv2D)               (None, 32, 32, 128)  131200      batch_normalization[0][0]        \n",
      "__________________________________________________________________________________________________\n",
      "leaky_re_lu_2 (LeakyReLU)       (None, 32, 32, 128)  0           conv2d_2[0][0]                   \n",
      "__________________________________________________________________________________________________\n",
      "batch_normalization_1 (BatchNor (None, 32, 32, 128)  512         leaky_re_lu_2[0][0]              \n",
      "__________________________________________________________________________________________________\n",
      "conv2d_3 (Conv2D)               (None, 16, 16, 256)  524544      batch_normalization_1[0][0]      \n",
      "__________________________________________________________________________________________________\n",
      "leaky_re_lu_3 (LeakyReLU)       (None, 16, 16, 256)  0           conv2d_3[0][0]                   \n",
      "__________________________________________________________________________________________________\n",
      "batch_normalization_2 (BatchNor (None, 16, 16, 256)  1024        leaky_re_lu_3[0][0]              \n",
      "__________________________________________________________________________________________________\n",
      "conv2d_4 (Conv2D)               (None, 8, 8, 256)    1048832     batch_normalization_2[0][0]      \n",
      "__________________________________________________________________________________________________\n",
      "leaky_re_lu_4 (LeakyReLU)       (None, 8, 8, 256)    0           conv2d_4[0][0]                   \n",
      "__________________________________________________________________________________________________\n",
      "batch_normalization_3 (BatchNor (None, 8, 8, 256)    1024        leaky_re_lu_4[0][0]              \n",
      "__________________________________________________________________________________________________\n",
      "conv2d_5 (Conv2D)               (None, 4, 4, 256)    1048832     batch_normalization_3[0][0]      \n",
      "__________________________________________________________________________________________________\n",
      "leaky_re_lu_5 (LeakyReLU)       (None, 4, 4, 256)    0           conv2d_5[0][0]                   \n",
      "__________________________________________________________________________________________________\n",
      "batch_normalization_4 (BatchNor (None, 4, 4, 256)    1024        leaky_re_lu_5[0][0]              \n",
      "__________________________________________________________________________________________________\n",
      "conv2d_6 (Conv2D)               (None, 2, 2, 256)    1048832     batch_normalization_4[0][0]      \n",
      "__________________________________________________________________________________________________\n",
      "leaky_re_lu_6 (LeakyReLU)       (None, 2, 2, 256)    0           conv2d_6[0][0]                   \n",
      "__________________________________________________________________________________________________\n",
      "batch_normalization_5 (BatchNor (None, 2, 2, 256)    1024        leaky_re_lu_6[0][0]              \n",
      "__________________________________________________________________________________________________\n",
      "conv2d_7 (Conv2D)               (None, 1, 1, 512)    2097664     batch_normalization_5[0][0]      \n",
      "__________________________________________________________________________________________________\n",
      "activation (Activation)         (None, 1, 1, 512)    0           conv2d_7[0][0]                   \n",
      "__________________________________________________________________________________________________\n",
      "conv2d_transpose (Conv2DTranspo (None, 2, 2, 256)    2097408     activation[0][0]                 \n",
      "__________________________________________________________________________________________________\n",
      "activation_1 (Activation)       (None, 2, 2, 256)    0           conv2d_transpose[0][0]           \n",
      "__________________________________________________________________________________________________\n",
      "batch_normalization_6 (BatchNor (None, 2, 2, 256)    1024        activation_1[0][0]               \n",
      "__________________________________________________________________________________________________\n",
      "concatenate (Concatenate)       (None, 2, 2, 512)    0           batch_normalization_6[0][0]      \n",
      "                                                                 batch_normalization_5[0][0]      \n",
      "__________________________________________________________________________________________________\n",
      "conv2d_transpose_1 (Conv2DTrans (None, 4, 4, 256)    2097408     concatenate[0][0]                \n",
      "__________________________________________________________________________________________________\n",
      "activation_2 (Activation)       (None, 4, 4, 256)    0           conv2d_transpose_1[0][0]         \n",
      "__________________________________________________________________________________________________\n",
      "batch_normalization_7 (BatchNor (None, 4, 4, 256)    1024        activation_2[0][0]               \n",
      "__________________________________________________________________________________________________\n",
      "concatenate_1 (Concatenate)     (None, 4, 4, 512)    0           batch_normalization_7[0][0]      \n",
      "                                                                 batch_normalization_4[0][0]      \n",
      "__________________________________________________________________________________________________\n",
      "conv2d_transpose_2 (Conv2DTrans (None, 8, 8, 256)    2097408     concatenate_1[0][0]              \n",
      "__________________________________________________________________________________________________\n",
      "activation_3 (Activation)       (None, 8, 8, 256)    0           conv2d_transpose_2[0][0]         \n",
      "__________________________________________________________________________________________________\n",
      "batch_normalization_8 (BatchNor (None, 8, 8, 256)    1024        activation_3[0][0]               \n",
      "__________________________________________________________________________________________________\n",
      "concatenate_2 (Concatenate)     (None, 8, 8, 512)    0           batch_normalization_8[0][0]      \n",
      "                                                                 batch_normalization_3[0][0]      \n",
      "__________________________________________________________________________________________________\n",
      "conv2d_transpose_3 (Conv2DTrans (None, 16, 16, 256)  2097408     concatenate_2[0][0]              \n",
      "__________________________________________________________________________________________________\n",
      "activation_4 (Activation)       (None, 16, 16, 256)  0           conv2d_transpose_3[0][0]         \n",
      "__________________________________________________________________________________________________\n",
      "batch_normalization_9 (BatchNor (None, 16, 16, 256)  1024        activation_4[0][0]               \n",
      "__________________________________________________________________________________________________\n",
      "concatenate_3 (Concatenate)     (None, 16, 16, 512)  0           batch_normalization_9[0][0]      \n",
      "                                                                 batch_normalization_2[0][0]      \n",
      "__________________________________________________________________________________________________\n",
      "conv2d_transpose_4 (Conv2DTrans (None, 32, 32, 256)  2097408     concatenate_3[0][0]              \n",
      "__________________________________________________________________________________________________\n",
      "activation_5 (Activation)       (None, 32, 32, 256)  0           conv2d_transpose_4[0][0]         \n",
      "__________________________________________________________________________________________________\n",
      "batch_normalization_10 (BatchNo (None, 32, 32, 256)  1024        activation_5[0][0]               \n",
      "__________________________________________________________________________________________________\n",
      "concatenate_4 (Concatenate)     (None, 32, 32, 384)  0           batch_normalization_10[0][0]     \n",
      "                                                                 batch_normalization_1[0][0]      \n",
      "__________________________________________________________________________________________________\n",
      "conv2d_transpose_5 (Conv2DTrans (None, 64, 64, 64)   393280      concatenate_4[0][0]              \n",
      "__________________________________________________________________________________________________\n",
      "activation_6 (Activation)       (None, 64, 64, 64)   0           conv2d_transpose_5[0][0]         \n",
      "__________________________________________________________________________________________________\n",
      "batch_normalization_11 (BatchNo (None, 64, 64, 64)   256         activation_6[0][0]               \n",
      "__________________________________________________________________________________________________\n",
      "concatenate_5 (Concatenate)     (None, 64, 64, 128)  0           batch_normalization_11[0][0]     \n",
      "                                                                 batch_normalization[0][0]        \n",
      "__________________________________________________________________________________________________\n",
      "conv2d_transpose_6 (Conv2DTrans (None, 128, 128, 32) 65568       concatenate_5[0][0]              \n",
      "__________________________________________________________________________________________________\n",
      "activation_7 (Activation)       (None, 128, 128, 32) 0           conv2d_transpose_6[0][0]         \n",
      "__________________________________________________________________________________________________\n",
      "batch_normalization_12 (BatchNo (None, 128, 128, 32) 128         activation_7[0][0]               \n",
      "__________________________________________________________________________________________________\n",
      "concatenate_6 (Concatenate)     (None, 128, 128, 64) 0           batch_normalization_12[0][0]     \n",
      "                                                                 leaky_re_lu[0][0]                \n",
      "__________________________________________________________________________________________________\n",
      "conv2d_transpose_7 (Conv2DTrans (None, 256, 256, 3)  3075        concatenate_6[0][0]              \n",
      "__________________________________________________________________________________________________\n",
      "activation_8 (Activation)       (None, 256, 256, 3)  0           conv2d_transpose_7[0][0]         \n",
      "==================================================================================================\n",
      "Total params: 16,893,635\n",
      "Trainable params: 16,888,451\n",
      "Non-trainable params: 5,184\n",
      "__________________________________________________________________________________________________\n",
      "None\n"
     ]
    }
   ],
   "source": [
    "source_image_A = tensorflow.keras.layers.Input(shape=(256, 256, 3))\n",
    "source_image_B = tensorflow.keras.layers.Input(shape=(256, 256, 3))\n",
    "source_image = tensorflow.keras.layers.Input(shape=(256, 256, 3))\n",
    "\n",
    "e1 = encoder_layer(source_image, 32, bn=False)\n",
    "e2 = encoder_layer(e1, 64)\n",
    "e3 = encoder_layer(e2, 128)\n",
    "e4 = encoder_layer(e3, 256)\n",
    "e5 = encoder_layer(e4, 256)\n",
    "e6 = encoder_layer(e5, 256)\n",
    "e7 = encoder_layer(e6, 256)\n",
    "\n",
    "bottle_neck = tensorflow.keras.layers.Conv2D(512, (4,4), strides=(2,2), padding='same')(e7)\n",
    "b = tensorflow.keras.layers.Activation('relu')(bottle_neck)\n",
    "\n",
    "d1 = decoder_layer(b, e7, 256)\n",
    "d2 = decoder_layer(d1, e6, 256)\n",
    "d3 = decoder_layer(d2, e5, 256)\n",
    "d4 = decoder_layer(d3, e4, 256)\n",
    "d5 = decoder_layer(d4, e3, 256)\n",
    "d6 = decoder_layer(d5, e2, 64)\n",
    "d7 = decoder_layer(d6, e1, 32)\n",
    "\n",
    "decoded = tensorflow.keras.layers.Conv2DTranspose(3, kernel_size=(4,4), strides=(2,2), padding='same')(d7)\n",
    "translated_image = tensorflow.keras.layers.Activation('tanh')(decoded)\n",
    "\n",
    "generator_network_AB = tensorflow.keras.models.Model(inputs=source_image, outputs=translated_image)\n",
    "generator_network_BA = tensorflow.keras.models.Model(inputs=source_image, outputs=translated_image)\n",
    "\n",
    "print (generator_network_AB.summary())"
   ]
  },
  {
   "cell_type": "markdown",
   "metadata": {},
   "source": [
    "# Discriminator Network"
   ]
  },
  {
   "cell_type": "code",
   "execution_count": 7,
   "metadata": {
    "ExecuteTime": {
     "end_time": "2020-12-07T14:13:23.056463Z",
     "start_time": "2020-12-07T14:13:23.051889Z"
    },
    "collapsed": true
   },
   "outputs": [],
   "source": [
    "def my_conv_layer(input_layer, filters, bn=True):\n",
    "    x = tensorflow.keras.layers.Conv2D(filters, kernel_size=(4,4), strides=(2,2), padding='same')(input_layer)\n",
    "    x = tensorflow.keras.layers.LeakyReLU(alpha=0.2)(x)\n",
    "    if bn:\n",
    "        x = tensorflow.keras.layers.BatchNormalization(momentum=0.8)(x)\n",
    "    return x"
   ]
  },
  {
   "cell_type": "code",
   "execution_count": 8,
   "metadata": {
    "ExecuteTime": {
     "end_time": "2020-12-07T14:13:23.614999Z",
     "start_time": "2020-12-07T14:13:23.494963Z"
    }
   },
   "outputs": [
    {
     "name": "stdout",
     "output_type": "stream",
     "text": [
      "Model: \"functional_5\"\n",
      "_________________________________________________________________\n",
      "Layer (type)                 Output Shape              Param #   \n",
      "=================================================================\n",
      "input_4 (InputLayer)         [(None, 256, 256, 3)]     0         \n",
      "_________________________________________________________________\n",
      "conv2d_8 (Conv2D)            (None, 128, 128, 64)      3136      \n",
      "_________________________________________________________________\n",
      "leaky_re_lu_7 (LeakyReLU)    (None, 128, 128, 64)      0         \n",
      "_________________________________________________________________\n",
      "conv2d_9 (Conv2D)            (None, 64, 64, 128)       131200    \n",
      "_________________________________________________________________\n",
      "leaky_re_lu_8 (LeakyReLU)    (None, 64, 64, 128)       0         \n",
      "_________________________________________________________________\n",
      "batch_normalization_13 (Batc (None, 64, 64, 128)       512       \n",
      "_________________________________________________________________\n",
      "conv2d_10 (Conv2D)           (None, 32, 32, 256)       524544    \n",
      "_________________________________________________________________\n",
      "leaky_re_lu_9 (LeakyReLU)    (None, 32, 32, 256)       0         \n",
      "_________________________________________________________________\n",
      "batch_normalization_14 (Batc (None, 32, 32, 256)       1024      \n",
      "_________________________________________________________________\n",
      "conv2d_11 (Conv2D)           (None, 16, 16, 512)       2097664   \n",
      "_________________________________________________________________\n",
      "leaky_re_lu_10 (LeakyReLU)   (None, 16, 16, 512)       0         \n",
      "_________________________________________________________________\n",
      "batch_normalization_15 (Batc (None, 16, 16, 512)       2048      \n",
      "_________________________________________________________________\n",
      "conv2d_12 (Conv2D)           (None, 16, 16, 1)         8193      \n",
      "=================================================================\n",
      "Total params: 2,768,321\n",
      "Trainable params: 2,766,529\n",
      "Non-trainable params: 1,792\n",
      "_________________________________________________________________\n",
      "None\n"
     ]
    }
   ],
   "source": [
    "target_image_input = tensorflow.keras.layers.Input(shape=(256, 256, 3))\n",
    "\n",
    "x = my_conv_layer(target_image_input, 64, bn=False)\n",
    "x = my_conv_layer(x, 128)\n",
    "x = my_conv_layer(x, 256)\n",
    "x = my_conv_layer(x, 512)\n",
    "\n",
    "patch_features = tensorflow.keras.layers.Conv2D(1, kernel_size=(4,4), strides=(1,1), padding='same')(x)\n",
    "\n",
    "discriminator_network_A = tensorflow.keras.models.Model(inputs=target_image_input, outputs=patch_features)\n",
    "discriminator_network_B = tensorflow.keras.models.Model(inputs=target_image_input, outputs=patch_features)\n",
    "\n",
    "print (discriminator_network_A.summary())"
   ]
  },
  {
   "cell_type": "code",
   "execution_count": 9,
   "metadata": {
    "ExecuteTime": {
     "end_time": "2020-12-07T14:13:25.031780Z",
     "start_time": "2020-12-07T14:13:25.007978Z"
    },
    "collapsed": true,
    "id": "tMc1CyNNFVe-"
   },
   "outputs": [],
   "source": [
    "adam_optimizer = tensorflow.keras.optimizers.Adam(learning_rate=0.0002, beta_1=0.5)\n",
    "discriminator_network_A.compile(loss='mse', optimizer=adam_optimizer, metrics=['accuracy'])\n",
    "discriminator_network_A.compile(loss='mse', optimizer=adam_optimizer, metrics=['accuracy'])"
   ]
  },
  {
   "cell_type": "markdown",
   "metadata": {
    "id": "99IlAN3AFVe-"
   },
   "source": [
    "# Cycle-GAN"
   ]
  },
  {
   "cell_type": "code",
   "execution_count": 10,
   "metadata": {
    "ExecuteTime": {
     "end_time": "2020-12-07T14:13:27.560907Z",
     "start_time": "2020-12-07T14:13:26.356565Z"
    },
    "colab": {
     "base_uri": "https://localhost:8080/"
    },
    "id": "mjnxFr21FVe-",
    "outputId": "1ea69eac-d03e-4021-f1e4-fbd0a4fb43d2"
   },
   "outputs": [
    {
     "name": "stdout",
     "output_type": "stream",
     "text": [
      "Model: \"functional_9\"\n",
      "__________________________________________________________________________________________________\n",
      "Layer (type)                    Output Shape         Param #     Connected to                     \n",
      "==================================================================================================\n",
      "input_2 (InputLayer)            [(None, 256, 256, 3) 0                                            \n",
      "__________________________________________________________________________________________________\n",
      "input_1 (InputLayer)            [(None, 256, 256, 3) 0                                            \n",
      "__________________________________________________________________________________________________\n",
      "functional_3 (Functional)       (None, 256, 256, 3)  16893635    input_2[0][0]                    \n",
      "                                                                 functional_1[0][0]               \n",
      "                                                                 input_1[0][0]                    \n",
      "__________________________________________________________________________________________________\n",
      "functional_1 (Functional)       (None, 256, 256, 3)  16893635    input_1[0][0]                    \n",
      "                                                                 functional_3[0][0]               \n",
      "                                                                 input_2[0][0]                    \n",
      "__________________________________________________________________________________________________\n",
      "functional_5 (Functional)       (None, 16, 16, 1)    2768321     functional_3[0][0]               \n",
      "__________________________________________________________________________________________________\n",
      "functional_7 (Functional)       (None, 16, 16, 1)    2768321     functional_1[0][0]               \n",
      "==================================================================================================\n",
      "Total params: 19,661,956\n",
      "Trainable params: 16,888,451\n",
      "Non-trainable params: 2,773,505\n",
      "__________________________________________________________________________________________________\n"
     ]
    }
   ],
   "source": [
    "# Domain Transfer\n",
    "fake_B = generator_network_AB(source_image_A)\n",
    "fake_A = generator_network_BA(source_image_B)\n",
    "\n",
    "# Restoring original Domain\n",
    "get_back_A = generator_network_BA(fake_B)\n",
    "get_back_B = generator_network_AB(fake_A)\n",
    "\n",
    "# Get back Identical/Same Image\n",
    "get_same_A = generator_network_BA(source_image_A)\n",
    "get_same_B = generator_network_AB(source_image_B)\n",
    "  \n",
    "discriminator_network_A.trainable=False\n",
    "discriminator_network_B.trainable=False\n",
    "\n",
    "# Tell Real vs Fake, for a given domain\n",
    "verify_A = discriminator_network_A(fake_A)\n",
    "verify_B = discriminator_network_B(fake_B)\n",
    "\n",
    "cycle_gan = tensorflow.keras.models.Model(inputs = [source_image_A, source_image_B], \\\n",
    "                              outputs = [verify_A, verify_B, get_back_A, get_back_B, get_same_A, get_same_B])\n",
    "cycle_gan.summary()"
   ]
  },
  {
   "cell_type": "markdown",
   "metadata": {
    "id": "MFyjhkyCFVe_"
   },
   "source": [
    "# Compiling Models"
   ]
  },
  {
   "cell_type": "code",
   "execution_count": 11,
   "metadata": {
    "ExecuteTime": {
     "end_time": "2020-12-07T14:13:29.237433Z",
     "start_time": "2020-12-07T14:13:29.221523Z"
    },
    "collapsed": true,
    "id": "rPG_olwXFVe_"
   },
   "outputs": [],
   "source": [
    "cycle_gan.compile(loss=['mse', 'mse', 'mae', 'mae', 'mae', 'mae'], loss_weights=[1, 1, 10, 10, 1, 1],\\\n",
    "                                          optimizer=adam_optimizer)"
   ]
  },
  {
   "cell_type": "markdown",
   "metadata": {
    "id": "5RpVWMO8FVe_"
   },
   "source": [
    "# Define Data Generators"
   ]
  },
  {
   "cell_type": "code",
   "execution_count": 12,
   "metadata": {
    "ExecuteTime": {
     "end_time": "2020-12-07T14:13:30.607917Z",
     "start_time": "2020-12-07T14:13:30.590101Z"
    },
    "collapsed": true,
    "id": "pTSivi-dFVe_"
   },
   "outputs": [],
   "source": [
    "indices = [i for i in range(0, len(trainX))]\n",
    "\n",
    "def get_batches_of_domains(batch_size):\n",
    "    domain_A_images = []\n",
    "    domain_B_images = []\n",
    "    return domain_A_images, domain_B_images\n",
    "\n",
    "def show_generator_results(generator_network_AB, generator_network_BA):\n",
    "    domain_A_images, domain_B_images = get_batches_of_domains(10)\n",
    "    \n",
    "    fake_B_images = generator_network_AB(domain_A_images)\n",
    "    fake_A_images = generator_network_BA(domain_B_images)\n",
    "\n",
    "    plt.figure(figsize=(7, 7))\n",
    "    for j in range(5):\n",
    "        i = j\n",
    "        plt.subplot(550 + 1 + j)\n",
    "        plt.imshow(fake_A_images[i,:,:,-1], cmap='gray')\n",
    "    plt.show()\n",
    "    \n",
    "    plt.figure(figsize=(7, 7))\n",
    "    for j in range(5):\n",
    "        i = j\n",
    "        plt.subplot(550 + 1 + j)\n",
    "        plt.imshow(fake_B_images[i,:,:,-1], cmap='gray')\n",
    "    plt.show()\n",
    "    return"
   ]
  },
  {
   "cell_type": "markdown",
   "metadata": {
    "id": "fEOpY_BZFVe_"
   },
   "source": [
    "# Training GAN"
   ]
  },
  {
   "cell_type": "code",
   "execution_count": 13,
   "metadata": {
    "ExecuteTime": {
     "end_time": "2020-12-07T14:13:32.242860Z",
     "start_time": "2020-12-07T14:13:31.908337Z"
    },
    "colab": {
     "base_uri": "https://localhost:8080/",
     "height": 1000
    },
    "id": "E_nihCaQFVe_",
    "outputId": "36a3af25-6ff5-4b1b-fd83-c5b780f8e9fc"
   },
   "outputs": [
    {
     "ename": "AssertionError",
     "evalue": "Could not compute output Tensor(\"activation_8/Tanh:0\", shape=(None, 256, 256, 3), dtype=float32)",
     "output_type": "error",
     "traceback": [
      "\u001b[0;31m---------------------------------------------------------------------------\u001b[0m",
      "\u001b[0;31mAssertionError\u001b[0m                            Traceback (most recent call last)",
      "\u001b[0;32m<ipython-input-13-4599c0a369dc>\u001b[0m in \u001b[0;36m<module>\u001b[0;34m()\u001b[0m\n\u001b[1;32m      6\u001b[0m \u001b[0;32mfor\u001b[0m \u001b[0mi\u001b[0m \u001b[0;32min\u001b[0m \u001b[0mrange\u001b[0m\u001b[0;34m(\u001b[0m\u001b[0;36m0\u001b[0m\u001b[0;34m,\u001b[0m \u001b[0mepochs\u001b[0m\u001b[0;34m)\u001b[0m\u001b[0;34m:\u001b[0m\u001b[0;34m\u001b[0m\u001b[0;34m\u001b[0m\u001b[0m\n\u001b[1;32m      7\u001b[0m     \u001b[0;32mif\u001b[0m \u001b[0;34m(\u001b[0m\u001b[0mi\u001b[0m\u001b[0;34m%\u001b[0m\u001b[0;36m10\u001b[0m \u001b[0;34m==\u001b[0m \u001b[0;36m0\u001b[0m\u001b[0;34m)\u001b[0m\u001b[0;34m:\u001b[0m\u001b[0;34m\u001b[0m\u001b[0;34m\u001b[0m\u001b[0m\n\u001b[0;32m----> 8\u001b[0;31m         \u001b[0mop\u001b[0m \u001b[0;34m=\u001b[0m \u001b[0mshow_generator_results\u001b[0m\u001b[0;34m(\u001b[0m\u001b[0mgenerator_network_AB\u001b[0m\u001b[0;34m,\u001b[0m \u001b[0mgenerator_network_BA\u001b[0m\u001b[0;34m)\u001b[0m\u001b[0;34m\u001b[0m\u001b[0;34m\u001b[0m\u001b[0m\n\u001b[0m\u001b[1;32m      9\u001b[0m         \u001b[0;31m#print (op)\u001b[0m\u001b[0;34m\u001b[0m\u001b[0;34m\u001b[0m\u001b[0;34m\u001b[0m\u001b[0m\n\u001b[1;32m     10\u001b[0m     \u001b[0;32mfor\u001b[0m \u001b[0mj\u001b[0m \u001b[0;32min\u001b[0m \u001b[0mrange\u001b[0m\u001b[0;34m(\u001b[0m\u001b[0msteps\u001b[0m\u001b[0;34m)\u001b[0m\u001b[0;34m:\u001b[0m\u001b[0;34m\u001b[0m\u001b[0;34m\u001b[0m\u001b[0m\n",
      "\u001b[0;32m<ipython-input-12-5efe192e34dc>\u001b[0m in \u001b[0;36mshow_generator_results\u001b[0;34m(generator_network_AB, generator_network_BA)\u001b[0m\n\u001b[1;32m      9\u001b[0m     \u001b[0mdomain_A_images\u001b[0m\u001b[0;34m,\u001b[0m \u001b[0mdomain_B_images\u001b[0m \u001b[0;34m=\u001b[0m \u001b[0mget_batches_of_domains\u001b[0m\u001b[0;34m(\u001b[0m\u001b[0;36m10\u001b[0m\u001b[0;34m)\u001b[0m\u001b[0;34m\u001b[0m\u001b[0;34m\u001b[0m\u001b[0m\n\u001b[1;32m     10\u001b[0m \u001b[0;34m\u001b[0m\u001b[0m\n\u001b[0;32m---> 11\u001b[0;31m     \u001b[0mfake_B_images\u001b[0m \u001b[0;34m=\u001b[0m \u001b[0mgenerator_network_AB\u001b[0m\u001b[0;34m(\u001b[0m\u001b[0mdomain_A_images\u001b[0m\u001b[0;34m)\u001b[0m\u001b[0;34m\u001b[0m\u001b[0;34m\u001b[0m\u001b[0m\n\u001b[0m\u001b[1;32m     12\u001b[0m     \u001b[0mfake_A_images\u001b[0m \u001b[0;34m=\u001b[0m \u001b[0mgenerator_network_BA\u001b[0m\u001b[0;34m(\u001b[0m\u001b[0mdomain_B_images\u001b[0m\u001b[0;34m)\u001b[0m\u001b[0;34m\u001b[0m\u001b[0;34m\u001b[0m\u001b[0m\n\u001b[1;32m     13\u001b[0m \u001b[0;34m\u001b[0m\u001b[0m\n",
      "\u001b[0;32m/Users/k15/anaconda/lib/python3.6/site-packages/tensorflow/python/keras/engine/base_layer.py\u001b[0m in \u001b[0;36m__call__\u001b[0;34m(self, *args, **kwargs)\u001b[0m\n\u001b[1;32m    924\u001b[0m     \u001b[0;32mif\u001b[0m \u001b[0m_in_functional_construction_mode\u001b[0m\u001b[0;34m(\u001b[0m\u001b[0mself\u001b[0m\u001b[0;34m,\u001b[0m \u001b[0minputs\u001b[0m\u001b[0;34m,\u001b[0m \u001b[0margs\u001b[0m\u001b[0;34m,\u001b[0m \u001b[0mkwargs\u001b[0m\u001b[0;34m,\u001b[0m \u001b[0minput_list\u001b[0m\u001b[0;34m)\u001b[0m\u001b[0;34m:\u001b[0m\u001b[0;34m\u001b[0m\u001b[0;34m\u001b[0m\u001b[0m\n\u001b[1;32m    925\u001b[0m       return self._functional_construction_call(inputs, args, kwargs,\n\u001b[0;32m--> 926\u001b[0;31m                                                 input_list)\n\u001b[0m\u001b[1;32m    927\u001b[0m \u001b[0;34m\u001b[0m\u001b[0m\n\u001b[1;32m    928\u001b[0m     \u001b[0;31m# Maintains info about the `Layer.call` stack.\u001b[0m\u001b[0;34m\u001b[0m\u001b[0;34m\u001b[0m\u001b[0;34m\u001b[0m\u001b[0m\n",
      "\u001b[0;32m/Users/k15/anaconda/lib/python3.6/site-packages/tensorflow/python/keras/engine/base_layer.py\u001b[0m in \u001b[0;36m_functional_construction_call\u001b[0;34m(self, inputs, args, kwargs, input_list)\u001b[0m\n\u001b[1;32m   1115\u001b[0m           \u001b[0;32mtry\u001b[0m\u001b[0;34m:\u001b[0m\u001b[0;34m\u001b[0m\u001b[0;34m\u001b[0m\u001b[0m\n\u001b[1;32m   1116\u001b[0m             \u001b[0;32mwith\u001b[0m \u001b[0mops\u001b[0m\u001b[0;34m.\u001b[0m\u001b[0menable_auto_cast_variables\u001b[0m\u001b[0;34m(\u001b[0m\u001b[0mself\u001b[0m\u001b[0;34m.\u001b[0m\u001b[0m_compute_dtype_object\u001b[0m\u001b[0;34m)\u001b[0m\u001b[0;34m:\u001b[0m\u001b[0;34m\u001b[0m\u001b[0;34m\u001b[0m\u001b[0m\n\u001b[0;32m-> 1117\u001b[0;31m               \u001b[0moutputs\u001b[0m \u001b[0;34m=\u001b[0m \u001b[0mcall_fn\u001b[0m\u001b[0;34m(\u001b[0m\u001b[0mcast_inputs\u001b[0m\u001b[0;34m,\u001b[0m \u001b[0;34m*\u001b[0m\u001b[0margs\u001b[0m\u001b[0;34m,\u001b[0m \u001b[0;34m**\u001b[0m\u001b[0mkwargs\u001b[0m\u001b[0;34m)\u001b[0m\u001b[0;34m\u001b[0m\u001b[0;34m\u001b[0m\u001b[0m\n\u001b[0m\u001b[1;32m   1118\u001b[0m \u001b[0;34m\u001b[0m\u001b[0m\n\u001b[1;32m   1119\u001b[0m           \u001b[0;32mexcept\u001b[0m \u001b[0merrors\u001b[0m\u001b[0;34m.\u001b[0m\u001b[0mOperatorNotAllowedInGraphError\u001b[0m \u001b[0;32mas\u001b[0m \u001b[0me\u001b[0m\u001b[0;34m:\u001b[0m\u001b[0;34m\u001b[0m\u001b[0;34m\u001b[0m\u001b[0m\n",
      "\u001b[0;32m/Users/k15/anaconda/lib/python3.6/site-packages/tensorflow/python/keras/engine/functional.py\u001b[0m in \u001b[0;36mcall\u001b[0;34m(self, inputs, training, mask)\u001b[0m\n\u001b[1;32m    384\u001b[0m     \"\"\"\n\u001b[1;32m    385\u001b[0m     return self._run_internal_graph(\n\u001b[0;32m--> 386\u001b[0;31m         inputs, training=training, mask=mask)\n\u001b[0m\u001b[1;32m    387\u001b[0m \u001b[0;34m\u001b[0m\u001b[0m\n\u001b[1;32m    388\u001b[0m   \u001b[0;32mdef\u001b[0m \u001b[0mcompute_output_shape\u001b[0m\u001b[0;34m(\u001b[0m\u001b[0mself\u001b[0m\u001b[0;34m,\u001b[0m \u001b[0minput_shape\u001b[0m\u001b[0;34m)\u001b[0m\u001b[0;34m:\u001b[0m\u001b[0;34m\u001b[0m\u001b[0;34m\u001b[0m\u001b[0m\n",
      "\u001b[0;32m/Users/k15/anaconda/lib/python3.6/site-packages/tensorflow/python/keras/engine/functional.py\u001b[0m in \u001b[0;36m_run_internal_graph\u001b[0;34m(self, inputs, training, mask)\u001b[0m\n\u001b[1;32m    515\u001b[0m     \u001b[0;32mfor\u001b[0m \u001b[0mx\u001b[0m \u001b[0;32min\u001b[0m \u001b[0mself\u001b[0m\u001b[0;34m.\u001b[0m\u001b[0moutputs\u001b[0m\u001b[0;34m:\u001b[0m\u001b[0;34m\u001b[0m\u001b[0;34m\u001b[0m\u001b[0m\n\u001b[1;32m    516\u001b[0m       \u001b[0mx_id\u001b[0m \u001b[0;34m=\u001b[0m \u001b[0mstr\u001b[0m\u001b[0;34m(\u001b[0m\u001b[0mid\u001b[0m\u001b[0;34m(\u001b[0m\u001b[0mx\u001b[0m\u001b[0;34m)\u001b[0m\u001b[0;34m)\u001b[0m\u001b[0;34m\u001b[0m\u001b[0;34m\u001b[0m\u001b[0m\n\u001b[0;32m--> 517\u001b[0;31m       \u001b[0;32massert\u001b[0m \u001b[0mx_id\u001b[0m \u001b[0;32min\u001b[0m \u001b[0mtensor_dict\u001b[0m\u001b[0;34m,\u001b[0m \u001b[0;34m'Could not compute output '\u001b[0m \u001b[0;34m+\u001b[0m \u001b[0mstr\u001b[0m\u001b[0;34m(\u001b[0m\u001b[0mx\u001b[0m\u001b[0;34m)\u001b[0m\u001b[0;34m\u001b[0m\u001b[0;34m\u001b[0m\u001b[0m\n\u001b[0m\u001b[1;32m    518\u001b[0m       \u001b[0moutput_tensors\u001b[0m\u001b[0;34m.\u001b[0m\u001b[0mappend\u001b[0m\u001b[0;34m(\u001b[0m\u001b[0mtensor_dict\u001b[0m\u001b[0;34m[\u001b[0m\u001b[0mx_id\u001b[0m\u001b[0;34m]\u001b[0m\u001b[0;34m.\u001b[0m\u001b[0mpop\u001b[0m\u001b[0;34m(\u001b[0m\u001b[0;34m)\u001b[0m\u001b[0;34m)\u001b[0m\u001b[0;34m\u001b[0m\u001b[0;34m\u001b[0m\u001b[0m\n\u001b[1;32m    519\u001b[0m \u001b[0;34m\u001b[0m\u001b[0m\n",
      "\u001b[0;31mAssertionError\u001b[0m: Could not compute output Tensor(\"activation_8/Tanh:0\", shape=(None, 256, 256, 3), dtype=float32)"
     ]
    }
   ],
   "source": [
    "epochs = 500\n",
    "batch_size = 100\n",
    "steps = 500\n",
    "noise_size = 500\n",
    "\n",
    "for i in range(0, epochs):\n",
    "    if (i%10 == 0):\n",
    "        op = show_generator_results(generator_network_AB, generator_network_BA)\n",
    "        #print (op)\n",
    "    for j in range(steps):\n",
    "        domain_A_images, domain_B_images = get_batches_of_domains(batch_size)\n",
    "\n",
    "        fake_patch = np.zeros((batch_size, 16, 16, 1))\n",
    "        real_patch = np.ones((batch_size, 16, 16, 1))\n",
    "        \n",
    "        fake_B_images = generator_network_AB(domain_A_images)\n",
    "        fake_A_images = generator_network_BA(domain_B_images)\n",
    "        \n",
    "        # Updating Discriminator A weights\n",
    "        discriminator_network_A.trainable=True\n",
    "        loss_d_real_A = discriminator_network_A.train_on_batch(domain_A_images, real_patch)\n",
    "        loss_d_fake_A = discriminator_network_A.train_on_batch(fake_A_images, fake_patch)\n",
    "        \n",
    "        loss_d_A = np.add(loss_d_real_A, loss_d_fake_A)/2.0\n",
    "        \n",
    "        # Updating Discriminator B weights\n",
    "        discriminator_network_B.trainable=True\n",
    "        loss_d_real_B = discriminator_network_B.train_on_batch(domain_B_images, real_patch)\n",
    "        loss_d_fake_B = discriminator_network_B.train_on_batch(fake_B_images, fake_patch)\n",
    "        \n",
    "        loss_d_B = np.add(loss_d_real_B, loss_d_fake_B)/2.0\n",
    "        \n",
    "        # Make the Discriminator belive that these are real samples and calculate loss to train the generator\n",
    "        \n",
    "        discriminator_network_A.trainable=False\n",
    "        discriminator_network_B.trainable=False\n",
    "        \n",
    "        # Updating Generator weights\n",
    "        loss_g = cycle_gan.train_on_batch([domain_A_images, domain_B_images],\\\n",
    "                    [real_patch, real_patch, domain_A_images, domain_B_images, domain_A_images, domain_B_images])\n",
    "        \n",
    "        if j%50 == 0:\n",
    "            print (\"Epoch:%.0f, Step:%.0f, DA-Loss:%.3f, DA-Acc:%.3f, DB-Loss:%.3f, DB-Acc:%.3f, G-Loss:%.3f\"\\\n",
    "                   %(i,j,loss_d_A[0],loss_d_A[1]*100,loss_d_B[0],loss_d_B[1]*100,loss_g[0]))\n",
    "            "
   ]
  },
  {
   "cell_type": "code",
   "execution_count": null,
   "metadata": {
    "collapsed": true,
    "id": "OtkUT-YzKOFU"
   },
   "outputs": [],
   "source": []
  }
 ],
 "metadata": {
  "accelerator": "GPU",
  "colab": {
   "name": "Generative Adversarial Network.ipynb",
   "provenance": []
  },
  "kernelspec": {
   "display_name": "Python 3",
   "language": "python",
   "name": "python3"
  },
  "language_info": {
   "codemirror_mode": {
    "name": "ipython",
    "version": 3
   },
   "file_extension": ".py",
   "mimetype": "text/x-python",
   "name": "python",
   "nbconvert_exporter": "python",
   "pygments_lexer": "ipython3",
   "version": "3.6.9"
  }
 },
 "nbformat": 4,
 "nbformat_minor": 1
}

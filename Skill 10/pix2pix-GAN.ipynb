{
 "cells": [
  {
   "cell_type": "code",
   "execution_count": 1,
   "metadata": {
    "ExecuteTime": {
     "end_time": "2020-12-07T13:02:44.769457Z",
     "start_time": "2020-12-07T13:02:43.919373Z"
    },
    "collapsed": true,
    "id": "14h4ejQKFVe9"
   },
   "outputs": [],
   "source": [
    "import pandas as pd\n",
    "import numpy as np\n",
    "import matplotlib.pyplot as plt\n",
    "from tqdm import tqdm_notebook\n",
    "%matplotlib inline"
   ]
  },
  {
   "cell_type": "code",
   "execution_count": 2,
   "metadata": {
    "ExecuteTime": {
     "end_time": "2020-12-07T13:02:47.196492Z",
     "start_time": "2020-12-07T13:02:44.771109Z"
    },
    "colab": {
     "base_uri": "https://localhost:8080/"
    },
    "id": "UnlKaodtFVe9",
    "outputId": "97d54c2f-5d9e-4190-87ac-3ae0193e03fe"
   },
   "outputs": [
    {
     "name": "stdout",
     "output_type": "stream",
     "text": [
      "2.3.1\n"
     ]
    }
   ],
   "source": [
    "import tensorflow\n",
    "print (tensorflow.__version__)"
   ]
  },
  {
   "cell_type": "code",
   "execution_count": 3,
   "metadata": {
    "ExecuteTime": {
     "end_time": "2020-12-07T13:02:48.712168Z",
     "start_time": "2020-12-07T13:02:47.646563Z"
    },
    "colab": {
     "base_uri": "https://localhost:8080/",
     "height": 478
    },
    "id": "s0l5lTN_FVe-",
    "outputId": "23a5e699-e704-48b1-ae29-cf6377295bac"
   },
   "outputs": [
    {
     "name": "stdout",
     "output_type": "stream",
     "text": [
      "Training data shapes: X=(60000, 28, 28), y=(60000,)\n",
      "Testing data shapes: X=(10000, 28, 28), y=(10000,)\n"
     ]
    },
    {
     "data": {
      "image/png": "[encoded data removed]",
      "text/plain": [
       "<Figure size 504x504 with 9 Axes>"
      ]
     },
     "metadata": {},
     "output_type": "display_data"
    }
   ],
   "source": [
    "from tensorflow.keras.datasets import fashion_mnist, mnist\n",
    "\n",
    "(trainX, trainY), (testX, testY) = fashion_mnist.load_data()\n",
    "\n",
    "print('Training data shapes: X=%s, y=%s' % (trainX.shape, trainY.shape))\n",
    "print('Testing data shapes: X=%s, y=%s' % (testX.shape, testY.shape))\n",
    "\n",
    "plt.figure(figsize=(7, 7))\n",
    "for j in range(9):\n",
    "    i = np.random.randint(0, 10000)\n",
    "    plt.subplot(330 + 1 + j)\n",
    "    plt.imshow(trainX[i], cmap='gray')\n",
    "    plt.title(trainY[i])\n",
    "plt.show()"
   ]
  },
  {
   "cell_type": "code",
   "execution_count": 4,
   "metadata": {
    "ExecuteTime": {
     "end_time": "2020-12-07T13:02:49.517651Z",
     "start_time": "2020-12-07T13:02:48.713115Z"
    },
    "colab": {
     "base_uri": "https://localhost:8080/"
    },
    "id": "hqqMY5NQFVe-",
    "outputId": "28d70cc1-cf80-4dc8-9c8a-fee7a2776275"
   },
   "outputs": [
    {
     "name": "stdout",
     "output_type": "stream",
     "text": [
      "(60000, 28, 28, 1) (10000, 28, 28, 1) (60000,) (10000,)\n"
     ]
    }
   ],
   "source": [
    "trainX = [image/255 for image in trainX]\n",
    "testX = [image/255 for image in testX]\n",
    "\n",
    "trainX = np.reshape(trainX, (60000, 28, 28, 1))\n",
    "testX = np.reshape(testX, (10000, 28, 28, 1))\n",
    "\n",
    "print (trainX.shape, testX.shape, trainY.shape, testY.shape)"
   ]
  },
  {
   "cell_type": "markdown",
   "metadata": {
    "id": "kxFTsuaGFVe-"
   },
   "source": [
    "# Generator Model (U-Net Like)"
   ]
  },
  {
   "cell_type": "code",
   "execution_count": 5,
   "metadata": {
    "ExecuteTime": {
     "end_time": "2020-12-07T13:02:50.125060Z",
     "start_time": "2020-12-07T13:02:50.114135Z"
    },
    "collapsed": true
   },
   "outputs": [],
   "source": [
    "def encoder_layer(input_layer, filters, bn=True):\n",
    "    x = tensorflow.keras.layers.Conv2D(filters, kernel_size=(4,4), strides=(2,2), padding='same')(input_layer)\n",
    "    x = tensorflow.keras.layers.LeakyReLU(alpha=0.2)(x)\n",
    "    if bn:\n",
    "        x = tensorflow.keras.layers.BatchNormalization(momentum=0.8)(x)\n",
    "    return x\n",
    "\n",
    "def decoder_layer(input_layer, skip_input, filters):\n",
    "    #x = tensorflow.keras.layers.UpSampling2D(size=2)(input_layer)\n",
    "    x = tensorflow.keras.layers.Conv2DTranspose(filters, kernel_size=(4,4), strides=(2,2), padding='same')(input_layer)\n",
    "    x = tensorflow.keras.layers.Activation('relu')(x)\n",
    "    x = tensorflow.keras.layers.BatchNormalization(momentum=0.8)(x)\n",
    "    x = tensorflow.keras.layers.Concatenate()([x, skip_input])\n",
    "    return x"
   ]
  },
  {
   "cell_type": "code",
   "execution_count": 7,
   "metadata": {
    "ExecuteTime": {
     "end_time": "2020-12-07T13:03:02.197040Z",
     "start_time": "2020-12-07T13:03:01.557548Z"
    }
   },
   "outputs": [
    {
     "name": "stdout",
     "output_type": "stream",
     "text": [
      "Model: \"functional_1\"\n",
      "__________________________________________________________________________________________________\n",
      "Layer (type)                    Output Shape         Param #     Connected to                     \n",
      "==================================================================================================\n",
      "input_2 (InputLayer)            [(None, 256, 256, 3) 0                                            \n",
      "__________________________________________________________________________________________________\n",
      "conv2d (Conv2D)                 (None, 128, 128, 64) 3136        input_2[0][0]                    \n",
      "__________________________________________________________________________________________________\n",
      "leaky_re_lu (LeakyReLU)         (None, 128, 128, 64) 0           conv2d[0][0]                     \n",
      "__________________________________________________________________________________________________\n",
      "conv2d_1 (Conv2D)               (None, 64, 64, 128)  131200      leaky_re_lu[0][0]                \n",
      "__________________________________________________________________________________________________\n",
      "leaky_re_lu_1 (LeakyReLU)       (None, 64, 64, 128)  0           conv2d_1[0][0]                   \n",
      "__________________________________________________________________________________________________\n",
      "batch_normalization (BatchNorma (None, 64, 64, 128)  512         leaky_re_lu_1[0][0]              \n",
      "__________________________________________________________________________________________________\n",
      "conv2d_2 (Conv2D)               (None, 32, 32, 256)  524544      batch_normalization[0][0]        \n",
      "__________________________________________________________________________________________________\n",
      "leaky_re_lu_2 (LeakyReLU)       (None, 32, 32, 256)  0           conv2d_2[0][0]                   \n",
      "__________________________________________________________________________________________________\n",
      "batch_normalization_1 (BatchNor (None, 32, 32, 256)  1024        leaky_re_lu_2[0][0]              \n",
      "__________________________________________________________________________________________________\n",
      "conv2d_3 (Conv2D)               (None, 16, 16, 512)  2097664     batch_normalization_1[0][0]      \n",
      "__________________________________________________________________________________________________\n",
      "leaky_re_lu_3 (LeakyReLU)       (None, 16, 16, 512)  0           conv2d_3[0][0]                   \n",
      "__________________________________________________________________________________________________\n",
      "batch_normalization_2 (BatchNor (None, 16, 16, 512)  2048        leaky_re_lu_3[0][0]              \n",
      "__________________________________________________________________________________________________\n",
      "conv2d_4 (Conv2D)               (None, 8, 8, 512)    4194816     batch_normalization_2[0][0]      \n",
      "__________________________________________________________________________________________________\n",
      "leaky_re_lu_4 (LeakyReLU)       (None, 8, 8, 512)    0           conv2d_4[0][0]                   \n",
      "__________________________________________________________________________________________________\n",
      "batch_normalization_3 (BatchNor (None, 8, 8, 512)    2048        leaky_re_lu_4[0][0]              \n",
      "__________________________________________________________________________________________________\n",
      "conv2d_5 (Conv2D)               (None, 4, 4, 512)    4194816     batch_normalization_3[0][0]      \n",
      "__________________________________________________________________________________________________\n",
      "leaky_re_lu_5 (LeakyReLU)       (None, 4, 4, 512)    0           conv2d_5[0][0]                   \n",
      "__________________________________________________________________________________________________\n",
      "batch_normalization_4 (BatchNor (None, 4, 4, 512)    2048        leaky_re_lu_5[0][0]              \n",
      "__________________________________________________________________________________________________\n",
      "conv2d_6 (Conv2D)               (None, 2, 2, 512)    4194816     batch_normalization_4[0][0]      \n",
      "__________________________________________________________________________________________________\n",
      "leaky_re_lu_6 (LeakyReLU)       (None, 2, 2, 512)    0           conv2d_6[0][0]                   \n",
      "__________________________________________________________________________________________________\n",
      "batch_normalization_5 (BatchNor (None, 2, 2, 512)    2048        leaky_re_lu_6[0][0]              \n",
      "__________________________________________________________________________________________________\n",
      "conv2d_7 (Conv2D)               (None, 1, 1, 512)    4194816     batch_normalization_5[0][0]      \n",
      "__________________________________________________________________________________________________\n",
      "activation (Activation)         (None, 1, 1, 512)    0           conv2d_7[0][0]                   \n",
      "__________________________________________________________________________________________________\n",
      "conv2d_transpose (Conv2DTranspo (None, 2, 2, 512)    4194816     activation[0][0]                 \n",
      "__________________________________________________________________________________________________\n",
      "activation_1 (Activation)       (None, 2, 2, 512)    0           conv2d_transpose[0][0]           \n",
      "__________________________________________________________________________________________________\n",
      "batch_normalization_6 (BatchNor (None, 2, 2, 512)    2048        activation_1[0][0]               \n",
      "__________________________________________________________________________________________________\n",
      "concatenate (Concatenate)       (None, 2, 2, 1024)   0           batch_normalization_6[0][0]      \n",
      "                                                                 batch_normalization_5[0][0]      \n",
      "__________________________________________________________________________________________________\n",
      "conv2d_transpose_1 (Conv2DTrans (None, 4, 4, 512)    8389120     concatenate[0][0]                \n",
      "__________________________________________________________________________________________________\n",
      "activation_2 (Activation)       (None, 4, 4, 512)    0           conv2d_transpose_1[0][0]         \n",
      "__________________________________________________________________________________________________\n",
      "batch_normalization_7 (BatchNor (None, 4, 4, 512)    2048        activation_2[0][0]               \n",
      "__________________________________________________________________________________________________\n",
      "concatenate_1 (Concatenate)     (None, 4, 4, 1024)   0           batch_normalization_7[0][0]      \n",
      "                                                                 batch_normalization_4[0][0]      \n",
      "__________________________________________________________________________________________________\n",
      "conv2d_transpose_2 (Conv2DTrans (None, 8, 8, 512)    8389120     concatenate_1[0][0]              \n",
      "__________________________________________________________________________________________________\n",
      "activation_3 (Activation)       (None, 8, 8, 512)    0           conv2d_transpose_2[0][0]         \n",
      "__________________________________________________________________________________________________\n",
      "batch_normalization_8 (BatchNor (None, 8, 8, 512)    2048        activation_3[0][0]               \n",
      "__________________________________________________________________________________________________\n",
      "concatenate_2 (Concatenate)     (None, 8, 8, 1024)   0           batch_normalization_8[0][0]      \n",
      "                                                                 batch_normalization_3[0][0]      \n",
      "__________________________________________________________________________________________________\n",
      "conv2d_transpose_3 (Conv2DTrans (None, 16, 16, 512)  8389120     concatenate_2[0][0]              \n",
      "__________________________________________________________________________________________________\n",
      "activation_4 (Activation)       (None, 16, 16, 512)  0           conv2d_transpose_3[0][0]         \n",
      "__________________________________________________________________________________________________\n",
      "batch_normalization_9 (BatchNor (None, 16, 16, 512)  2048        activation_4[0][0]               \n",
      "__________________________________________________________________________________________________\n",
      "concatenate_3 (Concatenate)     (None, 16, 16, 1024) 0           batch_normalization_9[0][0]      \n",
      "                                                                 batch_normalization_2[0][0]      \n",
      "__________________________________________________________________________________________________\n",
      "conv2d_transpose_4 (Conv2DTrans (None, 32, 32, 256)  4194560     concatenate_3[0][0]              \n",
      "__________________________________________________________________________________________________\n",
      "activation_5 (Activation)       (None, 32, 32, 256)  0           conv2d_transpose_4[0][0]         \n",
      "__________________________________________________________________________________________________\n",
      "batch_normalization_10 (BatchNo (None, 32, 32, 256)  1024        activation_5[0][0]               \n",
      "__________________________________________________________________________________________________\n",
      "concatenate_4 (Concatenate)     (None, 32, 32, 512)  0           batch_normalization_10[0][0]     \n",
      "                                                                 batch_normalization_1[0][0]      \n",
      "__________________________________________________________________________________________________\n",
      "conv2d_transpose_5 (Conv2DTrans (None, 64, 64, 128)  1048704     concatenate_4[0][0]              \n",
      "__________________________________________________________________________________________________\n",
      "activation_6 (Activation)       (None, 64, 64, 128)  0           conv2d_transpose_5[0][0]         \n",
      "__________________________________________________________________________________________________\n",
      "batch_normalization_11 (BatchNo (None, 64, 64, 128)  512         activation_6[0][0]               \n",
      "__________________________________________________________________________________________________\n",
      "concatenate_5 (Concatenate)     (None, 64, 64, 256)  0           batch_normalization_11[0][0]     \n",
      "                                                                 batch_normalization[0][0]        \n",
      "__________________________________________________________________________________________________\n",
      "conv2d_transpose_6 (Conv2DTrans (None, 128, 128, 64) 262208      concatenate_5[0][0]              \n",
      "__________________________________________________________________________________________________\n",
      "activation_7 (Activation)       (None, 128, 128, 64) 0           conv2d_transpose_6[0][0]         \n",
      "__________________________________________________________________________________________________\n",
      "batch_normalization_12 (BatchNo (None, 128, 128, 64) 256         activation_7[0][0]               \n",
      "__________________________________________________________________________________________________\n",
      "concatenate_6 (Concatenate)     (None, 128, 128, 128 0           batch_normalization_12[0][0]     \n",
      "                                                                 leaky_re_lu[0][0]                \n",
      "__________________________________________________________________________________________________\n",
      "conv2d_transpose_7 (Conv2DTrans (None, 256, 256, 3)  6147        concatenate_6[0][0]              \n",
      "__________________________________________________________________________________________________\n",
      "activation_8 (Activation)       (None, 256, 256, 3)  0           conv2d_transpose_7[0][0]         \n",
      "==================================================================================================\n",
      "Total params: 54,429,315\n",
      "Trainable params: 54,419,459\n",
      "Non-trainable params: 9,856\n",
      "__________________________________________________________________________________________________\n",
      "None\n"
     ]
    }
   ],
   "source": [
    "source_image_input = tensorflow.keras.layers.Input(shape=(256, 256, 3))\n",
    "\n",
    "e1 = encoder_layer(source_image_input, 64, bn=False)\n",
    "e2 = encoder_layer(e1, 128)\n",
    "e3 = encoder_layer(e2, 256)\n",
    "e4 = encoder_layer(e3, 512)\n",
    "e5 = encoder_layer(e4, 512)\n",
    "e6 = encoder_layer(e5, 512)\n",
    "e7 = encoder_layer(e6, 512)\n",
    "\n",
    "bottle_neck = tensorflow.keras.layers.Conv2D(512, (4,4), strides=(2,2), padding='same')(e7)\n",
    "b = tensorflow.keras.layers.Activation('relu')(bottle_neck)\n",
    "\n",
    "d1 = decoder_layer(b, e7, 512)\n",
    "d2 = decoder_layer(d1, e6, 512)\n",
    "d3 = decoder_layer(d2, e5, 512)\n",
    "d4 = decoder_layer(d3, e4, 512)\n",
    "d5 = decoder_layer(d4, e3, 256)\n",
    "d6 = decoder_layer(d5, e2, 128)\n",
    "d7 = decoder_layer(d6, e1, 64)\n",
    "\n",
    "decoded = tensorflow.keras.layers.Conv2DTranspose(3, kernel_size=(4,4), strides=(2,2), padding='same')(d7)\n",
    "translated_image = tensorflow.keras.layers.Activation('tanh')(decoded)\n",
    "\n",
    "generator_network = tensorflow.keras.models.Model(inputs=source_image_input, outputs=translated_image)\n",
    "print (generator_network.summary())"
   ]
  },
  {
   "cell_type": "markdown",
   "metadata": {
    "id": "CKXvIJKaFVe-"
   },
   "source": [
    "# Discriminator Network"
   ]
  },
  {
   "cell_type": "code",
   "execution_count": 42,
   "metadata": {
    "ExecuteTime": {
     "end_time": "2020-12-07T10:25:12.489401Z",
     "start_time": "2020-12-07T10:25:12.484739Z"
    },
    "collapsed": true
   },
   "outputs": [],
   "source": [
    "def my_conv_layer(input_layer, filters, bn=True):\n",
    "    x = tensorflow.keras.layers.Conv2D(filters, kernel_size=(4,4), strides=(2,2), padding='same')(input_layer)\n",
    "    x = tensorflow.keras.layers.LeakyReLU(alpha=0.2)(x)\n",
    "    if bn:\n",
    "        x = tensorflow.keras.layers.BatchNormalization(momentum=0.8)(x)\n",
    "    return x"
   ]
  },
  {
   "cell_type": "code",
   "execution_count": 43,
   "metadata": {
    "ExecuteTime": {
     "end_time": "2020-12-07T10:25:12.803702Z",
     "start_time": "2020-12-07T10:25:12.680014Z"
    }
   },
   "outputs": [
    {
     "name": "stdout",
     "output_type": "stream",
     "text": [
      "Model: \"functional_14\"\n",
      "__________________________________________________________________________________________________\n",
      "Layer (type)                    Output Shape         Param #     Connected to                     \n",
      "==================================================================================================\n",
      "input_21 (InputLayer)           [(None, 256, 256, 3) 0                                            \n",
      "__________________________________________________________________________________________________\n",
      "input_22 (InputLayer)           [(None, 256, 256, 3) 0                                            \n",
      "__________________________________________________________________________________________________\n",
      "concatenate_34 (Concatenate)    (None, 256, 256, 6)  0           input_21[0][0]                   \n",
      "                                                                 input_22[0][0]                   \n",
      "__________________________________________________________________________________________________\n",
      "conv2d_115 (Conv2D)             (None, 128, 128, 64) 6208        concatenate_34[0][0]             \n",
      "__________________________________________________________________________________________________\n",
      "leaky_re_lu_96 (LeakyReLU)      (None, 128, 128, 64) 0           conv2d_115[0][0]                 \n",
      "__________________________________________________________________________________________________\n",
      "conv2d_116 (Conv2D)             (None, 64, 64, 128)  131200      leaky_re_lu_96[0][0]             \n",
      "__________________________________________________________________________________________________\n",
      "leaky_re_lu_97 (LeakyReLU)      (None, 64, 64, 128)  0           conv2d_116[0][0]                 \n",
      "__________________________________________________________________________________________________\n",
      "batch_normalization_111 (BatchN (None, 64, 64, 128)  512         leaky_re_lu_97[0][0]             \n",
      "__________________________________________________________________________________________________\n",
      "conv2d_117 (Conv2D)             (None, 32, 32, 256)  524544      batch_normalization_111[0][0]    \n",
      "__________________________________________________________________________________________________\n",
      "leaky_re_lu_98 (LeakyReLU)      (None, 32, 32, 256)  0           conv2d_117[0][0]                 \n",
      "__________________________________________________________________________________________________\n",
      "batch_normalization_112 (BatchN (None, 32, 32, 256)  1024        leaky_re_lu_98[0][0]             \n",
      "__________________________________________________________________________________________________\n",
      "conv2d_118 (Conv2D)             (None, 16, 16, 512)  2097664     batch_normalization_112[0][0]    \n",
      "__________________________________________________________________________________________________\n",
      "leaky_re_lu_99 (LeakyReLU)      (None, 16, 16, 512)  0           conv2d_118[0][0]                 \n",
      "__________________________________________________________________________________________________\n",
      "batch_normalization_113 (BatchN (None, 16, 16, 512)  2048        leaky_re_lu_99[0][0]             \n",
      "__________________________________________________________________________________________________\n",
      "conv2d_119 (Conv2D)             (None, 16, 16, 1)    8193        batch_normalization_113[0][0]    \n",
      "==================================================================================================\n",
      "Total params: 2,771,393\n",
      "Trainable params: 2,769,601\n",
      "Non-trainable params: 1,792\n",
      "__________________________________________________________________________________________________\n",
      "None\n"
     ]
    }
   ],
   "source": [
    "source_image_input = tensorflow.keras.layers.Input(shape=(256, 256, 3))\n",
    "target_image_input = tensorflow.keras.layers.Input(shape=(256, 256, 3))\n",
    "\n",
    "combined = tensorflow.keras.layers.Concatenate(axis=-1)([source_image_input, target_image_input])\n",
    "\n",
    "x = my_conv_layer(combined, 64, bn=False)\n",
    "x = my_conv_layer(x, 128)\n",
    "x = my_conv_layer(x, 256)\n",
    "x = my_conv_layer(x, 512)\n",
    "\n",
    "patch_features = tensorflow.keras.layers.Conv2D(1, kernel_size=(4,4), strides=(1,1), padding='same')(x)\n",
    "\n",
    "discriminator_network = tensorflow.keras.models.Model(inputs=[source_image_input, target_image_input], outputs=patch_features)\n",
    "print (discriminator_network.summary())"
   ]
  },
  {
   "cell_type": "code",
   "execution_count": 44,
   "metadata": {
    "ExecuteTime": {
     "end_time": "2020-12-07T10:25:13.348271Z",
     "start_time": "2020-12-07T10:25:13.337184Z"
    },
    "collapsed": true,
    "id": "tMc1CyNNFVe-"
   },
   "outputs": [],
   "source": [
    "adam_optimizer = tensorflow.keras.optimizers.Adam(learning_rate=0.0002, beta_1=0.5)\n",
    "discriminator_network.compile(loss='mse', optimizer=adam_optimizer, metrics=['accuracy'])"
   ]
  },
  {
   "cell_type": "markdown",
   "metadata": {
    "id": "99IlAN3AFVe-"
   },
   "source": [
    "# GAN"
   ]
  },
  {
   "cell_type": "code",
   "execution_count": 46,
   "metadata": {
    "ExecuteTime": {
     "end_time": "2020-12-07T10:25:22.270580Z",
     "start_time": "2020-12-07T10:25:22.033613Z"
    },
    "colab": {
     "base_uri": "https://localhost:8080/"
    },
    "id": "mjnxFr21FVe-",
    "outputId": "1ea69eac-d03e-4021-f1e4-fbd0a4fb43d2"
   },
   "outputs": [
    {
     "name": "stdout",
     "output_type": "stream",
     "text": [
      "Model: \"functional_16\"\n",
      "__________________________________________________________________________________________________\n",
      "Layer (type)                    Output Shape         Param #     Connected to                     \n",
      "==================================================================================================\n",
      "input_21 (InputLayer)           [(None, 256, 256, 3) 0                                            \n",
      "__________________________________________________________________________________________________\n",
      "functional_12 (Functional)      (None, 256, 256, 3)  54429315    input_21[0][0]                   \n",
      "__________________________________________________________________________________________________\n",
      "functional_14 (Functional)      (None, 16, 16, 1)    2771393     input_21[0][0]                   \n",
      "                                                                 functional_12[1][0]              \n",
      "==================================================================================================\n",
      "Total params: 57,200,708\n",
      "Trainable params: 54,419,459\n",
      "Non-trainable params: 2,781,249\n",
      "__________________________________________________________________________________________________\n"
     ]
    }
   ],
   "source": [
    "discriminator_network.trainable=False\n",
    "\n",
    "g_output = generator_network(source_image_input)\n",
    "d_output = discriminator_network([source_image_input, g_output])\n",
    "\n",
    "gan_model = tensorflow.keras.models.Model(inputs=source_image_input, outputs=[d_output, g_output])\n",
    "gan_model.summary()"
   ]
  },
  {
   "cell_type": "markdown",
   "metadata": {
    "id": "MFyjhkyCFVe_"
   },
   "source": [
    "# Compiling Models"
   ]
  },
  {
   "cell_type": "code",
   "execution_count": 47,
   "metadata": {
    "ExecuteTime": {
     "end_time": "2020-12-07T10:26:00.111801Z",
     "start_time": "2020-12-07T10:26:00.098374Z"
    },
    "collapsed": true,
    "id": "rPG_olwXFVe_"
   },
   "outputs": [],
   "source": [
    "gan_model.compile(loss=['mse', 'mae'], optimizer=adam_optimizer, loss_weights=[1, 100])"
   ]
  },
  {
   "cell_type": "markdown",
   "metadata": {
    "id": "5RpVWMO8FVe_"
   },
   "source": [
    "# Define Data Generators"
   ]
  },
  {
   "cell_type": "code",
   "execution_count": 48,
   "metadata": {
    "ExecuteTime": {
     "end_time": "2020-12-07T10:47:14.082629Z",
     "start_time": "2020-12-07T10:47:14.062561Z"
    },
    "collapsed": true,
    "id": "pTSivi-dFVe_"
   },
   "outputs": [],
   "source": [
    "indices = [i for i in range(0, len(trainX))]\n",
    "\n",
    "def get_random_noise(batch_size, noise_size):\n",
    "    random_values = np.random.randn(batch_size*noise_size)\n",
    "    random_noise_batch = np.reshape(random_values, (batch_size, noise_size))\n",
    "    return random_noise_batch\n",
    "\n",
    "def get_fake_samples(generator_network, batch_size, real_samples):\n",
    "    fake_samples = generator_network.predict_on_batch(real_samples)\n",
    "    return fake_samples\n",
    "\n",
    "def get_real_samples(batch_size):\n",
    "    random_indices = np.random.choice(indices, size=batch_size)\n",
    "    real_source_images = trainX[np.array(random_indices),:]\n",
    "    real_target_images = trainY[np.array(random_indices),:]\n",
    "    return real_source_images, real_target_images\n",
    "\n",
    "\n",
    "def show_generator_results(generator_network):\n",
    "    real_source_images, real_target_images = get_real_samples(10)\n",
    "    fake_samples = generator_network.predict_on_batch(real_source_images)\n",
    "\n",
    "    plt.figure(figsize=(7, 7))\n",
    "    for j in range(9):\n",
    "        i = j\n",
    "        plt.subplot(330 + 1 + j)\n",
    "        plt.imshow(((fake_samples[i,:,:,-1])/2.0)+0.5, cmap='gray')\n",
    "    plt.show()\n",
    "    return"
   ]
  },
  {
   "cell_type": "markdown",
   "metadata": {
    "id": "fEOpY_BZFVe_"
   },
   "source": [
    "# Training GAN"
   ]
  },
  {
   "cell_type": "code",
   "execution_count": 49,
   "metadata": {
    "ExecuteTime": {
     "end_time": "2020-12-07T10:52:58.115686Z",
     "start_time": "2020-12-07T10:52:58.063285Z"
    },
    "colab": {
     "base_uri": "https://localhost:8080/",
     "height": 1000
    },
    "id": "E_nihCaQFVe_",
    "outputId": "36a3af25-6ff5-4b1b-fd83-c5b780f8e9fc",
    "scrolled": false
   },
   "outputs": [
    {
     "ename": "IndexError",
     "evalue": "too many indices for array",
     "output_type": "error",
     "traceback": [
      "\u001b[0;31m---------------------------------------------------------------------------\u001b[0m",
      "\u001b[0;31mIndexError\u001b[0m                                Traceback (most recent call last)",
      "\u001b[0;32m<ipython-input-49-d2e7b6f2928d>\u001b[0m in \u001b[0;36m<module>\u001b[0;34m()\u001b[0m\n\u001b[1;32m      5\u001b[0m \u001b[0;32mfor\u001b[0m \u001b[0mi\u001b[0m \u001b[0;32min\u001b[0m \u001b[0mrange\u001b[0m\u001b[0;34m(\u001b[0m\u001b[0;36m0\u001b[0m\u001b[0;34m,\u001b[0m \u001b[0mepochs\u001b[0m\u001b[0;34m)\u001b[0m\u001b[0;34m:\u001b[0m\u001b[0;34m\u001b[0m\u001b[0;34m\u001b[0m\u001b[0m\n\u001b[1;32m      6\u001b[0m     \u001b[0;32mif\u001b[0m \u001b[0;34m(\u001b[0m\u001b[0mi\u001b[0m\u001b[0;34m%\u001b[0m\u001b[0;36m10\u001b[0m \u001b[0;34m==\u001b[0m \u001b[0;36m0\u001b[0m\u001b[0;34m)\u001b[0m\u001b[0;34m:\u001b[0m\u001b[0;34m\u001b[0m\u001b[0;34m\u001b[0m\u001b[0m\n\u001b[0;32m----> 7\u001b[0;31m         \u001b[0mop\u001b[0m \u001b[0;34m=\u001b[0m \u001b[0mshow_generator_results\u001b[0m\u001b[0;34m(\u001b[0m\u001b[0mgenerator_network\u001b[0m\u001b[0;34m)\u001b[0m\u001b[0;34m\u001b[0m\u001b[0;34m\u001b[0m\u001b[0m\n\u001b[0m\u001b[1;32m      8\u001b[0m         \u001b[0;31m#print (op)\u001b[0m\u001b[0;34m\u001b[0m\u001b[0;34m\u001b[0m\u001b[0;34m\u001b[0m\u001b[0m\n\u001b[1;32m      9\u001b[0m     \u001b[0;32mfor\u001b[0m \u001b[0mj\u001b[0m \u001b[0;32min\u001b[0m \u001b[0mrange\u001b[0m\u001b[0;34m(\u001b[0m\u001b[0msteps\u001b[0m\u001b[0;34m)\u001b[0m\u001b[0;34m:\u001b[0m\u001b[0;34m\u001b[0m\u001b[0;34m\u001b[0m\u001b[0m\n",
      "\u001b[0;32m<ipython-input-48-918dfa086d9c>\u001b[0m in \u001b[0;36mshow_generator_results\u001b[0;34m(generator_network)\u001b[0m\n\u001b[1;32m     18\u001b[0m \u001b[0;34m\u001b[0m\u001b[0m\n\u001b[1;32m     19\u001b[0m \u001b[0;32mdef\u001b[0m \u001b[0mshow_generator_results\u001b[0m\u001b[0;34m(\u001b[0m\u001b[0mgenerator_network\u001b[0m\u001b[0;34m)\u001b[0m\u001b[0;34m:\u001b[0m\u001b[0;34m\u001b[0m\u001b[0;34m\u001b[0m\u001b[0m\n\u001b[0;32m---> 20\u001b[0;31m     \u001b[0mreal_source_images\u001b[0m\u001b[0;34m,\u001b[0m \u001b[0mreal_target_images\u001b[0m \u001b[0;34m=\u001b[0m \u001b[0mget_real_samples\u001b[0m\u001b[0;34m(\u001b[0m\u001b[0;36m10\u001b[0m\u001b[0;34m)\u001b[0m\u001b[0;34m\u001b[0m\u001b[0;34m\u001b[0m\u001b[0m\n\u001b[0m\u001b[1;32m     21\u001b[0m     \u001b[0mfake_samples\u001b[0m \u001b[0;34m=\u001b[0m \u001b[0mgenerator_network\u001b[0m\u001b[0;34m.\u001b[0m\u001b[0mpredict_on_batch\u001b[0m\u001b[0;34m(\u001b[0m\u001b[0mreal_source_images\u001b[0m\u001b[0;34m)\u001b[0m\u001b[0;34m\u001b[0m\u001b[0;34m\u001b[0m\u001b[0m\n\u001b[1;32m     22\u001b[0m \u001b[0;34m\u001b[0m\u001b[0m\n",
      "\u001b[0;32m<ipython-input-48-918dfa086d9c>\u001b[0m in \u001b[0;36mget_real_samples\u001b[0;34m(batch_size)\u001b[0m\n\u001b[1;32m     13\u001b[0m     \u001b[0mrandom_indices\u001b[0m \u001b[0;34m=\u001b[0m \u001b[0mnp\u001b[0m\u001b[0;34m.\u001b[0m\u001b[0mrandom\u001b[0m\u001b[0;34m.\u001b[0m\u001b[0mchoice\u001b[0m\u001b[0;34m(\u001b[0m\u001b[0mindices\u001b[0m\u001b[0;34m,\u001b[0m \u001b[0msize\u001b[0m\u001b[0;34m=\u001b[0m\u001b[0mbatch_size\u001b[0m\u001b[0;34m)\u001b[0m\u001b[0;34m\u001b[0m\u001b[0;34m\u001b[0m\u001b[0m\n\u001b[1;32m     14\u001b[0m     \u001b[0mreal_source_images\u001b[0m \u001b[0;34m=\u001b[0m \u001b[0mtrainX\u001b[0m\u001b[0;34m[\u001b[0m\u001b[0mnp\u001b[0m\u001b[0;34m.\u001b[0m\u001b[0marray\u001b[0m\u001b[0;34m(\u001b[0m\u001b[0mrandom_indices\u001b[0m\u001b[0;34m)\u001b[0m\u001b[0;34m,\u001b[0m\u001b[0;34m:\u001b[0m\u001b[0;34m]\u001b[0m\u001b[0;34m\u001b[0m\u001b[0;34m\u001b[0m\u001b[0m\n\u001b[0;32m---> 15\u001b[0;31m     \u001b[0mreal_target_images\u001b[0m \u001b[0;34m=\u001b[0m \u001b[0mtrainY\u001b[0m\u001b[0;34m[\u001b[0m\u001b[0mnp\u001b[0m\u001b[0;34m.\u001b[0m\u001b[0marray\u001b[0m\u001b[0;34m(\u001b[0m\u001b[0mrandom_indices\u001b[0m\u001b[0;34m)\u001b[0m\u001b[0;34m,\u001b[0m\u001b[0;34m:\u001b[0m\u001b[0;34m]\u001b[0m\u001b[0;34m\u001b[0m\u001b[0;34m\u001b[0m\u001b[0m\n\u001b[0m\u001b[1;32m     16\u001b[0m     \u001b[0;32mreturn\u001b[0m \u001b[0mreal_source_images\u001b[0m\u001b[0;34m,\u001b[0m \u001b[0mreal_target_images\u001b[0m\u001b[0;34m\u001b[0m\u001b[0;34m\u001b[0m\u001b[0m\n\u001b[1;32m     17\u001b[0m \u001b[0;34m\u001b[0m\u001b[0m\n",
      "\u001b[0;31mIndexError\u001b[0m: too many indices for array"
     ]
    }
   ],
   "source": [
    "epochs = 500\n",
    "batch_size = 100\n",
    "steps = 500\n",
    "\n",
    "for i in range(0, epochs):\n",
    "    if (i%10 == 0):\n",
    "        op = show_generator_results(generator_network)\n",
    "        #print (op)\n",
    "    for j in range(steps):\n",
    "        real_source_images, real_target_images = get_real_samples(batch_size=batch_size//2)\n",
    "        fake_target_images = get_fake_samples(generator_network, batch_size//2, real_source_images)\n",
    "\n",
    "        fake_patch = np.zeros((batch_size//2, 16, 16, 1))\n",
    "        real_patch = np.ones((batch_size//2, 16, 16, 1))\n",
    "        \n",
    "        # Updating Discriminator weights\n",
    "        discriminator_network.trainable=True\n",
    "        loss_d1 = discriminator_network.train_on_batch([real_source_images, real_target_images], real_patch)\n",
    "        loss_d2 = discriminator_network.train_on_batch([real_source_images, fake_target_images], fake_patch)\n",
    "        \n",
    "        loss_d = (np.add(loss_d1, loss_d2))/2.0\n",
    "        \n",
    "        \n",
    "        real_source_images, real_target_images = get_real_samples(batch_size=batch_size)\n",
    "        \n",
    "        # Make the Discriminator belive that these are real samples and calculate loss to train the generator\n",
    "        real_patch = np.ones((batch_size, 16, 16, 1))\n",
    "        \n",
    "        # Updating Generator weights\n",
    "        discriminator_network.trainable=False\n",
    "        loss_g, _, _ = gan_model.train_on_batch(real_source_images, [real_patch, real_target_images])\n",
    "        \n",
    "        if j%50 == 0:\n",
    "            print (\"Epoch:%.0f, Step:%.0f, D-Loss:%.3f, D-Acc:%.3f, G-Loss:%.3f\"%(i,j,loss_d[0],loss_d[1]*100,loss_g))\n",
    "            "
   ]
  },
  {
   "cell_type": "code",
   "execution_count": null,
   "metadata": {
    "collapsed": true,
    "id": "OtkUT-YzKOFU"
   },
   "outputs": [],
   "source": []
  }
 ],
 "metadata": {
  "accelerator": "GPU",
  "colab": {
   "name": "Generative Adversarial Network.ipynb",
   "provenance": []
  },
  "kernelspec": {
   "display_name": "Python 3",
   "language": "python",
   "name": "python3"
  },
  "language_info": {
   "codemirror_mode": {
    "name": "ipython",
    "version": 3
   },
   "file_extension": ".py",
   "mimetype": "text/x-python",
   "name": "python",
   "nbconvert_exporter": "python",
   "pygments_lexer": "ipython3",
   "version": "3.6.9"
  }
 },
 "nbformat": 4,
 "nbformat_minor": 1
}

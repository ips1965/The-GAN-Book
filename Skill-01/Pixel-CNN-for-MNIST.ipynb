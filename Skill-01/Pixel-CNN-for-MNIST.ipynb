{
  "nbformat": 4,
  "nbformat_minor": 0,
  "metadata": {
    "accelerator": "GPU",
    "colab": {
      "name": "Variational Autoencoder.ipynb",
      "provenance": [],
      "include_colab_link": true
    },
    "kernelspec": {
      "display_name": "Python 3",
      "language": "python",
      "name": "python3"
    },
    "language_info": {
      "codemirror_mode": {
        "name": "ipython",
        "version": 3
      },
      "file_extension": ".py",
      "mimetype": "text/x-python",
      "name": "python",
      "nbconvert_exporter": "python",
      "pygments_lexer": "ipython3",
      "version": "3.6.9"
    },
    "widgets": {
      "application/vnd.jupyter.widget-state+json": {
        "a55377f692c44831a6d1253400c19eb1": {
          "model_module": "@jupyter-widgets/controls",
          "model_name": "HBoxModel",
          "state": {
            "_view_name": "HBoxView",
            "_dom_classes": [],
            "_model_name": "HBoxModel",
            "_view_module": "@jupyter-widgets/controls",
            "_model_module_version": "1.5.0",
            "_view_count": null,
            "_view_module_version": "1.5.0",
            "box_style": "",
            "layout": "IPY_MODEL_e6642d8c52054560814a097d918956f0",
            "_model_module": "@jupyter-widgets/controls",
            "children": [
              "IPY_MODEL_bdf97b63c6494dcbb6e0ff8bba180dcd",
              "IPY_MODEL_6eb2bdbb96e948569ba7d53697b58a2f"
            ]
          }
        },
        "e6642d8c52054560814a097d918956f0": {
          "model_module": "@jupyter-widgets/base",
          "model_name": "LayoutModel",
          "state": {
            "_view_name": "LayoutView",
            "grid_template_rows": null,
            "right": null,
            "justify_content": null,
            "_view_module": "@jupyter-widgets/base",
            "overflow": null,
            "_model_module_version": "1.2.0",
            "_view_count": null,
            "flex_flow": null,
            "width": null,
            "min_width": null,
            "border": null,
            "align_items": null,
            "bottom": null,
            "_model_module": "@jupyter-widgets/base",
            "top": null,
            "grid_column": null,
            "overflow_y": null,
            "overflow_x": null,
            "grid_auto_flow": null,
            "grid_area": null,
            "grid_template_columns": null,
            "flex": null,
            "_model_name": "LayoutModel",
            "justify_items": null,
            "grid_row": null,
            "max_height": null,
            "align_content": null,
            "visibility": null,
            "align_self": null,
            "height": null,
            "min_height": null,
            "padding": null,
            "grid_auto_rows": null,
            "grid_gap": null,
            "max_width": null,
            "order": null,
            "_view_module_version": "1.2.0",
            "grid_template_areas": null,
            "object_position": null,
            "object_fit": null,
            "grid_auto_columns": null,
            "margin": null,
            "display": null,
            "left": null
          }
        },
        "bdf97b63c6494dcbb6e0ff8bba180dcd": {
          "model_module": "@jupyter-widgets/controls",
          "model_name": "FloatProgressModel",
          "state": {
            "_view_name": "ProgressView",
            "style": "IPY_MODEL_d2bc99800f0940c9a354b476dc772e0c",
            "_dom_classes": [],
            "description": "100%",
            "_model_name": "FloatProgressModel",
            "bar_style": "success",
            "max": 28,
            "_view_module": "@jupyter-widgets/controls",
            "_model_module_version": "1.5.0",
            "value": 28,
            "_view_count": null,
            "_view_module_version": "1.5.0",
            "orientation": "horizontal",
            "min": 0,
            "description_tooltip": null,
            "_model_module": "@jupyter-widgets/controls",
            "layout": "IPY_MODEL_973e85ac796b4008ba470bd60b8585d8"
          }
        },
        "6eb2bdbb96e948569ba7d53697b58a2f": {
          "model_module": "@jupyter-widgets/controls",
          "model_name": "HTMLModel",
          "state": {
            "_view_name": "HTMLView",
            "style": "IPY_MODEL_c53f302b04f040c5ba548320b6652b12",
            "_dom_classes": [],
            "description": "",
            "_model_name": "HTMLModel",
            "placeholder": "​",
            "_view_module": "@jupyter-widgets/controls",
            "_model_module_version": "1.5.0",
            "value": " 28/28 [00:43&lt;00:00,  1.54s/it]",
            "_view_count": null,
            "_view_module_version": "1.5.0",
            "description_tooltip": null,
            "_model_module": "@jupyter-widgets/controls",
            "layout": "IPY_MODEL_4c4fcb85a4b84fcb9ed6031e289d0de9"
          }
        },
        "d2bc99800f0940c9a354b476dc772e0c": {
          "model_module": "@jupyter-widgets/controls",
          "model_name": "ProgressStyleModel",
          "state": {
            "_view_name": "StyleView",
            "_model_name": "ProgressStyleModel",
            "description_width": "initial",
            "_view_module": "@jupyter-widgets/base",
            "_model_module_version": "1.5.0",
            "_view_count": null,
            "_view_module_version": "1.2.0",
            "bar_color": null,
            "_model_module": "@jupyter-widgets/controls"
          }
        },
        "973e85ac796b4008ba470bd60b8585d8": {
          "model_module": "@jupyter-widgets/base",
          "model_name": "LayoutModel",
          "state": {
            "_view_name": "LayoutView",
            "grid_template_rows": null,
            "right": null,
            "justify_content": null,
            "_view_module": "@jupyter-widgets/base",
            "overflow": null,
            "_model_module_version": "1.2.0",
            "_view_count": null,
            "flex_flow": null,
            "width": null,
            "min_width": null,
            "border": null,
            "align_items": null,
            "bottom": null,
            "_model_module": "@jupyter-widgets/base",
            "top": null,
            "grid_column": null,
            "overflow_y": null,
            "overflow_x": null,
            "grid_auto_flow": null,
            "grid_area": null,
            "grid_template_columns": null,
            "flex": null,
            "_model_name": "LayoutModel",
            "justify_items": null,
            "grid_row": null,
            "max_height": null,
            "align_content": null,
            "visibility": null,
            "align_self": null,
            "height": null,
            "min_height": null,
            "padding": null,
            "grid_auto_rows": null,
            "grid_gap": null,
            "max_width": null,
            "order": null,
            "_view_module_version": "1.2.0",
            "grid_template_areas": null,
            "object_position": null,
            "object_fit": null,
            "grid_auto_columns": null,
            "margin": null,
            "display": null,
            "left": null
          }
        },
        "c53f302b04f040c5ba548320b6652b12": {
          "model_module": "@jupyter-widgets/controls",
          "model_name": "DescriptionStyleModel",
          "state": {
            "_view_name": "StyleView",
            "_model_name": "DescriptionStyleModel",
            "description_width": "",
            "_view_module": "@jupyter-widgets/base",
            "_model_module_version": "1.5.0",
            "_view_count": null,
            "_view_module_version": "1.2.0",
            "_model_module": "@jupyter-widgets/controls"
          }
        },
        "4c4fcb85a4b84fcb9ed6031e289d0de9": {
          "model_module": "@jupyter-widgets/base",
          "model_name": "LayoutModel",
          "state": {
            "_view_name": "LayoutView",
            "grid_template_rows": null,
            "right": null,
            "justify_content": null,
            "_view_module": "@jupyter-widgets/base",
            "overflow": null,
            "_model_module_version": "1.2.0",
            "_view_count": null,
            "flex_flow": null,
            "width": null,
            "min_width": null,
            "border": null,
            "align_items": null,
            "bottom": null,
            "_model_module": "@jupyter-widgets/base",
            "top": null,
            "grid_column": null,
            "overflow_y": null,
            "overflow_x": null,
            "grid_auto_flow": null,
            "grid_area": null,
            "grid_template_columns": null,
            "flex": null,
            "_model_name": "LayoutModel",
            "justify_items": null,
            "grid_row": null,
            "max_height": null,
            "align_content": null,
            "visibility": null,
            "align_self": null,
            "height": null,
            "min_height": null,
            "padding": null,
            "grid_auto_rows": null,
            "grid_gap": null,
            "max_width": null,
            "order": null,
            "_view_module_version": "1.2.0",
            "grid_template_areas": null,
            "object_position": null,
            "object_fit": null,
            "grid_auto_columns": null,
            "margin": null,
            "display": null,
            "left": null
          }
        }
      }
    }
  },
  "cells": [
    {
      "cell_type": "markdown",
      "metadata": {
        "id": "view-in-github",
        "colab_type": "text"
      },
      "source": [
        "<a href=\"https://colab.research.google.com/github/kartikgill/The-GAN-Book/blob/main/Skill-01/Pixel-CNN-for-MNIST.ipynb\" target=\"_parent\"><img src=\"https://colab.research.google.com/assets/colab-badge.svg\" alt=\"Open In Colab\"/></a>"
      ]
    },
    {
      "cell_type": "markdown",
      "metadata": {
        "id": "fKGmrMCaG7lu"
      },
      "source": [
        "# Importing useful libraries"
      ]
    },
    {
      "cell_type": "code",
      "metadata": {
        "ExecuteTime": {
          "end_time": "2021-02-14T05:45:32.978725Z",
          "start_time": "2021-02-14T05:45:31.328613Z"
        },
        "collapsed": true,
        "id": "_U4JaBWo6DZq"
      },
      "source": [
        "import numpy as np\n",
        "import matplotlib.pyplot as plt\n",
        "import pandas as pd\n",
        "import seaborn as sns\n",
        "import warnings\n",
        "warnings.filterwarnings('ignore')\n",
        "%matplotlib inline"
      ],
      "execution_count": 1,
      "outputs": []
    },
    {
      "cell_type": "code",
      "metadata": {
        "ExecuteTime": {
          "end_time": "2021-02-14T05:45:55.505911Z",
          "start_time": "2021-02-14T05:45:51.469171Z"
        },
        "id": "exqCpOqqG7lz",
        "outputId": "48cc38b1-bea5-4b10-ff50-29c4a6ee8289",
        "colab": {
          "base_uri": "https://localhost:8080/"
        }
      },
      "source": [
        "import tensorflow\n",
        "print (tensorflow.__version__)"
      ],
      "execution_count": 2,
      "outputs": [
        {
          "output_type": "stream",
          "text": [
            "2.4.1\n"
          ],
          "name": "stdout"
        }
      ]
    },
    {
      "cell_type": "markdown",
      "metadata": {
        "id": "JO6Wa7J26DZw"
      },
      "source": [
        "# Load and show the Dataset"
      ]
    },
    {
      "cell_type": "code",
      "metadata": {
        "ExecuteTime": {
          "end_time": "2021-02-14T05:45:59.032910Z",
          "start_time": "2021-02-14T05:45:57.084465Z"
        },
        "colab": {
          "base_uri": "https://localhost:8080/",
          "height": 456
        },
        "id": "vyJ2HUyB6DZw",
        "outputId": "43de4369-33e9-4d0d-c4ac-90fe9d268324"
      },
      "source": [
        "from tensorflow.keras.datasets import mnist\n",
        "\n",
        "(trainX, trainy), (testX, testy) = mnist.load_data()\n",
        "\n",
        "print('Training data shapes: X=%s, y=%s' % (trainX.shape, trainy.shape))\n",
        "print('Testing data shapes: X=%s, y=%s' % (testX.shape, testy.shape))\n",
        "\n",
        "\n",
        "for k in range(9):\n",
        "    plt.figure(figsize=(9,6))\n",
        "    for j in range(9):\n",
        "        i = np.random.randint(0, 10000)\n",
        "        plt.subplot(990 + 1 + j)\n",
        "        plt.imshow(trainX[i], cmap='gray_r')\n",
        "        plt.axis('off')\n",
        "        #plt.title(trainy[i])\n",
        "    plt.show()"
      ],
      "execution_count": 3,
      "outputs": [
        {
          "output_type": "stream",
          "text": [
            "Training data shapes: X=(60000, 28, 28), y=(60000,)\n",
            "Testing data shapes: X=(10000, 28, 28), y=(10000,)\n"
          ],
          "name": "stdout"
        },
        {
          "output_type": "display_data",
          "data": {
            "image/png": "[encoded data removed]",
            "text/plain": [
              "<Figure size 648x432 with 9 Axes>"
            ]
          },
          "metadata": {
            "tags": [],
            "needs_background": "light"
          }
        },
        {
          "output_type": "display_data",
          "data": {
            "image/png": "[encoded data removed]",
            "text/plain": [
              "<Figure size 648x432 with 9 Axes>"
            ]
          },
          "metadata": {
            "tags": [],
            "needs_background": "light"
          }
        },
        {
          "output_type": "display_data",
          "data": {
            "image/png": "[encoded data removed]",
            "text/plain": [
              "<Figure size 648x432 with 9 Axes>"
            ]
          },
          "metadata": {
            "tags": [],
            "needs_background": "light"
          }
        },
        {
          "output_type": "display_data",
          "data": {
            "image/png": "[encoded data removed]",
            "text/plain": [
              "<Figure size 648x432 with 9 Axes>"
            ]
          },
          "metadata": {
            "tags": [],
            "needs_background": "light"
          }
        },
        {
          "output_type": "display_data",
          "data": {
            "image/png": "[encoded data removed]",
            "text/plain": [
              "<Figure size 648x432 with 9 Axes>"
            ]
          },
          "metadata": {
            "tags": [],
            "needs_background": "light"
          }
        },
        {
          "output_type": "display_data",
          "data": {
            "image/png": "[encoded data removed]",
            "text/plain": [
              "<Figure size 648x432 with 9 Axes>"
            ]
          },
          "metadata": {
            "tags": [],
            "needs_background": "light"
          }
        },
        {
          "output_type": "display_data",
          "data": {
            "image/png": "[encoded data removed]",
            "text/plain": [
              "<Figure size 648x432 with 9 Axes>"
            ]
          },
          "metadata": {
            "tags": [],
            "needs_background": "light"
          }
        },
        {
          "output_type": "display_data",
          "data": {
            "image/png": "[encoded data removed]",
            "text/plain": [
              "<Figure size 648x432 with 9 Axes>"
            ]
          },
          "metadata": {
            "tags": [],
            "needs_background": "light"
          }
        },
        {
          "output_type": "display_data",
          "data": {
            "image/png": "[encoded data removed]",
            "text/plain": [
              "<Figure size 648x432 with 9 Axes>"
            ]
          },
          "metadata": {
            "tags": [],
            "needs_background": "light"
          }
        }
      ]
    },
    {
      "cell_type": "markdown",
      "metadata": {
        "id": "IYUGwxhn6DZx"
      },
      "source": [
        "# Prepare data for the model"
      ]
    },
    {
      "cell_type": "code",
      "metadata": {
        "ExecuteTime": {
          "end_time": "2021-02-14T05:45:59.454734Z",
          "start_time": "2021-02-14T05:45:59.034083Z"
        },
        "colab": {
          "base_uri": "https://localhost:8080/"
        },
        "id": "9GPNh9S_6DZx",
        "outputId": "9d14ac64-123a-4548-b792-bf6cb4832089"
      },
      "source": [
        "trainX = np.where(trainX < (0.33 * 256), 0, 1)\n",
        "train_data = trainX.astype(np.float32)\n",
        "\n",
        "testX = np.where(testX < (0.33 * 256), 0, 1)\n",
        "test_data = testX.astype(np.float32)\n",
        "\n",
        "train_data = np.reshape(train_data, (60000, 28, 28, 1))\n",
        "test_data = np.reshape(test_data, (10000, 28, 28, 1))\n",
        "\n",
        "print (train_data.shape, test_data.shape)"
      ],
      "execution_count": 4,
      "outputs": [
        {
          "output_type": "stream",
          "text": [
            "(60000, 28, 28, 1) (10000, 28, 28, 1)\n"
          ],
          "name": "stdout"
        }
      ]
    },
    {
      "cell_type": "markdown",
      "metadata": {
        "id": "hE5soQF66DZy"
      },
      "source": [
        "# Define Custom Masked CNN layeys for Pixel CNN"
      ]
    },
    {
      "cell_type": "markdown",
      "metadata": {
        "id": "CpbPG3sFG7l1"
      },
      "source": [
        "### Following code is inspired from : https://keras.io/examples/generative/pixelcnn/"
      ]
    },
    {
      "cell_type": "code",
      "metadata": {
        "ExecuteTime": {
          "end_time": "2021-02-14T05:45:59.998956Z",
          "start_time": "2021-02-14T05:45:59.973846Z"
        },
        "collapsed": true,
        "id": "ydMsCq9hG7l2"
      },
      "source": [
        "# The first layer is the PixelCNN layer. This layer simply\n",
        "# builds on the 2D convolutional layer, but includes masking.\n",
        "\n",
        "import tensorflow\n",
        "\n",
        "class PixelConvLayer(tensorflow.keras.layers.Layer):\n",
        "    def __init__(self, mask_type, **kwargs):\n",
        "        super(PixelConvLayer, self).__init__()\n",
        "        self.mask_type = mask_type\n",
        "        self.conv = tensorflow.keras.layers.Conv2D(**kwargs)\n",
        "\n",
        "    def build(self, input_shape):\n",
        "        # Build the conv2d layer to initialize kernel variables\n",
        "        self.conv.build(input_shape)\n",
        "        # Use the initialized kernel to create the mask\n",
        "        kernel_shape = self.conv.kernel.get_shape()\n",
        "        self.mask = np.zeros(shape=kernel_shape)\n",
        "        self.mask[: kernel_shape[0] // 2, ...] = 1.0\n",
        "        self.mask[kernel_shape[0] // 2, : kernel_shape[1] // 2, ...] = 1.0\n",
        "        if self.mask_type == \"B\":\n",
        "            self.mask[kernel_shape[0] // 2, kernel_shape[1] // 2, ...] = 1.0\n",
        "\n",
        "    def call(self, inputs):\n",
        "        self.conv.kernel.assign(self.conv.kernel * self.mask)\n",
        "        return self.conv(inputs)\n",
        "\n",
        "\n",
        "# Next, we build our residual block layer.\n",
        "# This is just a normal residual block, but based on the PixelConvLayer.\n",
        "class ResidualBlock(tensorflow.keras.layers.Layer):\n",
        "    def __init__(self, filters, **kwargs):\n",
        "        super(ResidualBlock, self).__init__(**kwargs)\n",
        "        self.conv1 = tensorflow.keras.layers.Conv2D(\n",
        "            filters=filters, kernel_size=1, activation=\"relu\"\n",
        "        )\n",
        "        self.pixel_conv = PixelConvLayer(\n",
        "            mask_type=\"B\",\n",
        "            filters=filters // 2,\n",
        "            kernel_size=3,\n",
        "            activation=\"relu\",\n",
        "            padding=\"same\",\n",
        "        )\n",
        "        self.conv2 = tensorflow.keras.layers.Conv2D(\n",
        "            filters=filters, kernel_size=1, activation=\"relu\"\n",
        "        )\n",
        "\n",
        "    def call(self, inputs):\n",
        "        x = self.conv1(inputs)\n",
        "        x = self.pixel_conv(x)\n",
        "        x = self.conv2(x)\n",
        "        return tensorflow.keras.layers.add([inputs, x])"
      ],
      "execution_count": 5,
      "outputs": []
    },
    {
      "cell_type": "markdown",
      "metadata": {
        "id": "Wcklm1YBG7l2"
      },
      "source": [
        "# Define Pixel-CNN    "
      ]
    },
    {
      "cell_type": "code",
      "metadata": {
        "ExecuteTime": {
          "end_time": "2021-02-14T05:46:01.390690Z",
          "start_time": "2021-02-14T05:46:01.110612Z"
        },
        "id": "voksaARVG7l2",
        "outputId": "7429b5f0-c1d4-4af2-a0d6-74ad9acb19b2",
        "colab": {
          "base_uri": "https://localhost:8080/"
        }
      },
      "source": [
        "inputs = tensorflow.keras.Input(shape=(28,28,1))\n",
        "x = PixelConvLayer(\n",
        "    mask_type=\"A\", filters=128, kernel_size=7, activation=\"relu\", padding=\"same\"\n",
        ")(inputs)\n",
        "\n",
        "for _ in range(5):\n",
        "    x = ResidualBlock(filters=128)(x)\n",
        "\n",
        "for _ in range(2):\n",
        "    x = PixelConvLayer(\n",
        "        mask_type=\"B\",\n",
        "        filters=128,\n",
        "        kernel_size=1,\n",
        "        strides=1,\n",
        "        activation=\"relu\",\n",
        "        padding=\"valid\",\n",
        "    )(x)\n",
        "\n",
        "out = tensorflow.keras.layers.Conv2D(\n",
        "    filters=1, kernel_size=1, strides=1, activation=\"sigmoid\", padding=\"valid\"\n",
        ")(x)\n",
        "\n",
        "pixel_cnn = tensorflow.keras.Model(inputs, out)\n",
        "pixel_cnn.summary()"
      ],
      "execution_count": 6,
      "outputs": [
        {
          "output_type": "stream",
          "text": [
            "Model: \"model\"\n",
            "_________________________________________________________________\n",
            "Layer (type)                 Output Shape              Param #   \n",
            "=================================================================\n",
            "input_1 (InputLayer)         [(None, 28, 28, 1)]       0         \n",
            "_________________________________________________________________\n",
            "pixel_conv_layer (PixelConvL (None, 28, 28, 128)       6400      \n",
            "_________________________________________________________________\n",
            "residual_block (ResidualBloc (None, 28, 28, 128)       98624     \n",
            "_________________________________________________________________\n",
            "residual_block_1 (ResidualBl (None, 28, 28, 128)       98624     \n",
            "_________________________________________________________________\n",
            "residual_block_2 (ResidualBl (None, 28, 28, 128)       98624     \n",
            "_________________________________________________________________\n",
            "residual_block_3 (ResidualBl (None, 28, 28, 128)       98624     \n",
            "_________________________________________________________________\n",
            "residual_block_4 (ResidualBl (None, 28, 28, 128)       98624     \n",
            "_________________________________________________________________\n",
            "pixel_conv_layer_6 (PixelCon (None, 28, 28, 128)       16512     \n",
            "_________________________________________________________________\n",
            "pixel_conv_layer_7 (PixelCon (None, 28, 28, 128)       16512     \n",
            "_________________________________________________________________\n",
            "conv2d_18 (Conv2D)           (None, 28, 28, 1)         129       \n",
            "=================================================================\n",
            "Total params: 532,673\n",
            "Trainable params: 532,673\n",
            "Non-trainable params: 0\n",
            "_________________________________________________________________\n"
          ],
          "name": "stdout"
        }
      ]
    },
    {
      "cell_type": "markdown",
      "metadata": {
        "id": "jzk1pL2OG7l3"
      },
      "source": [
        "# Compiling Model"
      ]
    },
    {
      "cell_type": "code",
      "metadata": {
        "ExecuteTime": {
          "end_time": "2021-02-14T05:46:03.386754Z",
          "start_time": "2021-02-14T05:46:03.360332Z"
        },
        "id": "7CzYmq3fG7l3"
      },
      "source": [
        "adam = tensorflow.keras.optimizers.Adam(learning_rate=0.0005)\n",
        "pixel_cnn.compile(optimizer=adam, loss=\"binary_crossentropy\")"
      ],
      "execution_count": 7,
      "outputs": []
    },
    {
      "cell_type": "markdown",
      "metadata": {
        "id": "upSo92nBG7l3"
      },
      "source": [
        "## Training Pixel-CNN"
      ]
    },
    {
      "cell_type": "code",
      "metadata": {
        "ExecuteTime": {
          "end_time": "2021-02-14T05:46:17.995822Z",
          "start_time": "2021-02-14T05:46:05.535616Z"
        },
        "colab": {
          "base_uri": "https://localhost:8080/"
        },
        "id": "UBxzQ9zB6DZ2",
        "outputId": "40f8bddf-6929-40a6-b15f-37e8b9d984a4"
      },
      "source": [
        "pixel_cnn.fit(\n",
        "    x=train_data, y=train_data, batch_size=128, epochs=50, validation_data=(test_data, test_data), verbose=1\n",
        ")"
      ],
      "execution_count": 8,
      "outputs": [
        {
          "output_type": "stream",
          "text": [
            "Epoch 1/50\n",
            "469/469 [==============================] - 57s 116ms/step - loss: 0.1748 - val_loss: 0.0923\n",
            "Epoch 2/50\n",
            "469/469 [==============================] - 53s 113ms/step - loss: 0.0918 - val_loss: 0.0892\n",
            "Epoch 3/50\n",
            "469/469 [==============================] - 53s 113ms/step - loss: 0.0894 - val_loss: 0.0882\n",
            "Epoch 4/50\n",
            "469/469 [==============================] - 53s 113ms/step - loss: 0.0881 - val_loss: 0.0873\n",
            "Epoch 5/50\n",
            "469/469 [==============================] - 53s 113ms/step - loss: 0.0873 - val_loss: 0.0878\n",
            "Epoch 6/50\n",
            "469/469 [==============================] - 53s 113ms/step - loss: 0.0866 - val_loss: 0.0869\n",
            "Epoch 7/50\n",
            "469/469 [==============================] - 53s 113ms/step - loss: 0.0863 - val_loss: 0.0860\n",
            "Epoch 8/50\n",
            "469/469 [==============================] - 53s 113ms/step - loss: 0.0861 - val_loss: 0.0854\n",
            "Epoch 9/50\n",
            "469/469 [==============================] - 53s 113ms/step - loss: 0.0856 - val_loss: 0.0852\n",
            "Epoch 10/50\n",
            "469/469 [==============================] - 53s 113ms/step - loss: 0.0852 - val_loss: 0.0849\n",
            "Epoch 11/50\n",
            "469/469 [==============================] - 53s 113ms/step - loss: 0.0848 - val_loss: 0.0852\n",
            "Epoch 12/50\n",
            "469/469 [==============================] - 53s 114ms/step - loss: 0.0847 - val_loss: 0.0849\n",
            "Epoch 13/50\n",
            "469/469 [==============================] - 53s 113ms/step - loss: 0.0845 - val_loss: 0.0847\n",
            "Epoch 14/50\n",
            "469/469 [==============================] - 53s 113ms/step - loss: 0.0843 - val_loss: 0.0843\n",
            "Epoch 15/50\n",
            "469/469 [==============================] - 53s 113ms/step - loss: 0.0840 - val_loss: 0.0843\n",
            "Epoch 16/50\n",
            "469/469 [==============================] - 53s 113ms/step - loss: 0.0841 - val_loss: 0.0842\n",
            "Epoch 17/50\n",
            "469/469 [==============================] - 53s 113ms/step - loss: 0.0838 - val_loss: 0.0839\n",
            "Epoch 18/50\n",
            "469/469 [==============================] - 53s 113ms/step - loss: 0.0838 - val_loss: 0.0843\n",
            "Epoch 19/50\n",
            "469/469 [==============================] - 53s 113ms/step - loss: 0.0836 - val_loss: 0.0837\n",
            "Epoch 20/50\n",
            "469/469 [==============================] - 53s 113ms/step - loss: 0.0835 - val_loss: 0.0837\n",
            "Epoch 21/50\n",
            "469/469 [==============================] - 53s 113ms/step - loss: 0.0832 - val_loss: 0.0840\n",
            "Epoch 22/50\n",
            "469/469 [==============================] - 53s 113ms/step - loss: 0.0833 - val_loss: 0.0838\n",
            "Epoch 23/50\n",
            "469/469 [==============================] - 53s 113ms/step - loss: 0.0831 - val_loss: 0.0835\n",
            "Epoch 24/50\n",
            "469/469 [==============================] - 53s 113ms/step - loss: 0.0830 - val_loss: 0.0834\n",
            "Epoch 25/50\n",
            "469/469 [==============================] - 53s 113ms/step - loss: 0.0830 - val_loss: 0.0834\n",
            "Epoch 26/50\n",
            "469/469 [==============================] - 53s 113ms/step - loss: 0.0828 - val_loss: 0.0834\n",
            "Epoch 27/50\n",
            "469/469 [==============================] - 53s 113ms/step - loss: 0.0827 - val_loss: 0.0832\n",
            "Epoch 28/50\n",
            "469/469 [==============================] - 53s 113ms/step - loss: 0.0826 - val_loss: 0.0837\n",
            "Epoch 29/50\n",
            "469/469 [==============================] - 53s 113ms/step - loss: 0.0825 - val_loss: 0.0832\n",
            "Epoch 30/50\n",
            "469/469 [==============================] - 53s 113ms/step - loss: 0.0825 - val_loss: 0.0832\n",
            "Epoch 31/50\n",
            "469/469 [==============================] - 53s 113ms/step - loss: 0.0824 - val_loss: 0.0830\n",
            "Epoch 32/50\n",
            "469/469 [==============================] - 53s 113ms/step - loss: 0.0823 - val_loss: 0.0836\n",
            "Epoch 33/50\n",
            "469/469 [==============================] - 53s 113ms/step - loss: 0.0824 - val_loss: 0.0831\n",
            "Epoch 34/50\n",
            "469/469 [==============================] - 53s 113ms/step - loss: 0.0822 - val_loss: 0.0831\n",
            "Epoch 35/50\n",
            "469/469 [==============================] - 53s 113ms/step - loss: 0.0823 - val_loss: 0.0830\n",
            "Epoch 36/50\n",
            "469/469 [==============================] - 53s 113ms/step - loss: 0.0820 - val_loss: 0.0829\n",
            "Epoch 37/50\n",
            "469/469 [==============================] - 53s 113ms/step - loss: 0.0820 - val_loss: 0.0829\n",
            "Epoch 38/50\n",
            "469/469 [==============================] - 53s 113ms/step - loss: 0.0819 - val_loss: 0.0829\n",
            "Epoch 39/50\n",
            "469/469 [==============================] - 53s 113ms/step - loss: 0.0818 - val_loss: 0.0829\n",
            "Epoch 40/50\n",
            "469/469 [==============================] - 53s 113ms/step - loss: 0.0817 - val_loss: 0.0831\n",
            "Epoch 41/50\n",
            "469/469 [==============================] - 53s 113ms/step - loss: 0.0819 - val_loss: 0.0830\n",
            "Epoch 42/50\n",
            "469/469 [==============================] - 53s 113ms/step - loss: 0.0816 - val_loss: 0.0829\n",
            "Epoch 43/50\n",
            "469/469 [==============================] - 53s 113ms/step - loss: 0.0817 - val_loss: 0.0832\n",
            "Epoch 44/50\n",
            "469/469 [==============================] - 53s 113ms/step - loss: 0.0815 - val_loss: 0.0830\n",
            "Epoch 45/50\n",
            "469/469 [==============================] - 53s 113ms/step - loss: 0.0815 - val_loss: 0.0829\n",
            "Epoch 46/50\n",
            "469/469 [==============================] - 53s 113ms/step - loss: 0.0815 - val_loss: 0.0827\n",
            "Epoch 47/50\n",
            "469/469 [==============================] - 53s 113ms/step - loss: 0.0813 - val_loss: 0.0829\n",
            "Epoch 48/50\n",
            "469/469 [==============================] - 53s 113ms/step - loss: 0.0812 - val_loss: 0.0829\n",
            "Epoch 49/50\n",
            "469/469 [==============================] - 53s 113ms/step - loss: 0.0813 - val_loss: 0.0830\n",
            "Epoch 50/50\n",
            "469/469 [==============================] - 53s 113ms/step - loss: 0.0812 - val_loss: 0.0828\n"
          ],
          "name": "stdout"
        },
        {
          "output_type": "execute_result",
          "data": {
            "text/plain": [
              "<tensorflow.python.keras.callbacks.History at 0x7f8e00fea5c0>"
            ]
          },
          "metadata": {
            "tags": []
          },
          "execution_count": 8
        }
      ]
    },
    {
      "cell_type": "markdown",
      "metadata": {
        "id": "Neh5e4PDG7l3"
      },
      "source": [
        "## Display Results 81 images"
      ]
    },
    {
      "cell_type": "code",
      "metadata": {
        "ExecuteTime": {
          "start_time": "2021-02-14T05:48:55.091Z"
        },
        "colab": {
          "base_uri": "https://localhost:8080/",
          "height": 471,
          "referenced_widgets": [
            "a55377f692c44831a6d1253400c19eb1",
            "e6642d8c52054560814a097d918956f0",
            "bdf97b63c6494dcbb6e0ff8bba180dcd",
            "6eb2bdbb96e948569ba7d53697b58a2f",
            "d2bc99800f0940c9a354b476dc772e0c",
            "973e85ac796b4008ba470bd60b8585d8",
            "c53f302b04f040c5ba548320b6652b12",
            "4c4fcb85a4b84fcb9ed6031e289d0de9"
          ]
        },
        "id": "ohIPV6Qj6DZ2",
        "outputId": "c3bb137d-d9f9-49de-ff4c-e2399d03e381"
      },
      "source": [
        "from IPython.display import Image, display\n",
        "from tqdm import tqdm_notebook\n",
        "\n",
        "# Create an empty array of pixels.\n",
        "batch = 81\n",
        "pixels = np.zeros(shape=(batch,) + (pixel_cnn.input_shape)[1:])\n",
        "batch, rows, cols, channels = pixels.shape\n",
        "\n",
        "# Iterate over the pixels because generation has to be done sequentially pixel by pixel.\n",
        "for row in tqdm_notebook(range(rows)):\n",
        "    for col in range(cols):\n",
        "        for channel in range(channels):\n",
        "            # Feed the whole array and retrieving the pixel value probabilities for the next\n",
        "            # pixel.\n",
        "            probs = pixel_cnn.predict(pixels)[:, row, col, channel]\n",
        "            # Use the probabilities to pick pixel values and append the values to the image\n",
        "            # frame.\n",
        "            pixels[:, row, col, channel] = tensorflow.math.ceil(\n",
        "              probs - tensorflow.random.uniform(probs.shape)\n",
        "            )\n",
        "\n",
        "counter = 0\n",
        "for i in range(9):\n",
        "    plt.figure(figsize=(9,6))\n",
        "    for j in range(9):\n",
        "        plt.subplot(990 + 1 + j)\n",
        "        plt.imshow(pixels[counter,:,:,0], cmap='gray_r')\n",
        "        counter += 1\n",
        "        plt.axis('off')\n",
        "    plt.show()"
      ],
      "execution_count": 9,
      "outputs": [
        {
          "output_type": "display_data",
          "data": {
            "application/vnd.jupyter.widget-view+json": {
              "model_id": "a55377f692c44831a6d1253400c19eb1",
              "version_minor": 0,
              "version_major": 2
            },
            "text/plain": [
              "HBox(children=(FloatProgress(value=0.0, max=28.0), HTML(value='')))"
            ]
          },
          "metadata": {
            "tags": []
          }
        },
        {
          "output_type": "stream",
          "text": [
            "\n"
          ],
          "name": "stdout"
        },
        {
          "output_type": "display_data",
          "data": {
            "image/png": "[encoded data removed]",
            "text/plain": [
              "<Figure size 648x432 with 9 Axes>"
            ]
          },
          "metadata": {
            "tags": [],
            "needs_background": "light"
          }
        },
        {
          "output_type": "display_data",
          "data": {
            "image/png": "[encoded data removed]",
            "text/plain": [
              "<Figure size 648x432 with 9 Axes>"
            ]
          },
          "metadata": {
            "tags": [],
            "needs_background": "light"
          }
        },
        {
          "output_type": "display_data",
          "data": {
            "image/png": "[encoded data removed]",
            "text/plain": [
              "<Figure size 648x432 with 9 Axes>"
            ]
          },
          "metadata": {
            "tags": [],
            "needs_background": "light"
          }
        },
        {
          "output_type": "display_data",
          "data": {
            "image/png": "[encoded data removed]",
            "text/plain": [
              "<Figure size 648x432 with 9 Axes>"
            ]
          },
          "metadata": {
            "tags": [],
            "needs_background": "light"
          }
        },
        {
          "output_type": "display_data",
          "data": {
            "image/png": "[encoded data removed]",
            "text/plain": [
              "<Figure size 648x432 with 9 Axes>"
            ]
          },
          "metadata": {
            "tags": [],
            "needs_background": "light"
          }
        },
        {
          "output_type": "display_data",
          "data": {
            "image/png": "[encoded data removed]",
            "text/plain": [
              "<Figure size 648x432 with 9 Axes>"
            ]
          },
          "metadata": {
            "tags": [],
            "needs_background": "light"
          }
        },
        {
          "output_type": "display_data",
          "data": {
            "image/png": "[encoded data removed]",
            "text/plain": [
              "<Figure size 648x432 with 9 Axes>"
            ]
          },
          "metadata": {
            "tags": [],
            "needs_background": "light"
          }
        },
        {
          "output_type": "display_data",
          "data": {
            "image/png": "[encoded data removed]",
            "text/plain": [
              "<Figure size 648x432 with 9 Axes>"
            ]
          },
          "metadata": {
            "tags": [],
            "needs_background": "light"
          }
        },
        {
          "output_type": "display_data",
          "data": {
            "image/png": "[encoded data removed]",
            "text/plain": [
              "<Figure size 648x432 with 9 Axes>"
            ]
          },
          "metadata": {
            "tags": [],
            "needs_background": "light"
          }
        }
      ]
    },
    {
      "cell_type": "code",
      "metadata": {
        "collapsed": true,
        "id": "_fw5FTn6G7l4"
      },
      "source": [
        ""
      ],
      "execution_count": null,
      "outputs": []
    }
  ]
}